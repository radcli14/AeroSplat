{
 "cells": [
  {
   "cell_type": "markdown",
   "metadata": {},
   "source": [
    "# Aerodynamic Splatting"
   ]
  },
  {
   "cell_type": "code",
   "execution_count": 1,
   "metadata": {},
   "outputs": [
    {
     "name": "stdout",
     "output_type": "stream",
     "text": [
      "True\n"
     ]
    }
   ],
   "source": [
    "import numpy as np\n",
    "from sympy import symbols, diff, Quaternion, exp, Matrix, lambdify, sin, cos, simplify\n",
    "#from sympy.physics.mechanics import *\n",
    "import random\n",
    "from IPython.display import display\n",
    "import matplotlib.pyplot as plt\n",
    "from aerosplat import *\n",
    "print(init_test())"
   ]
  },
  {
   "cell_type": "markdown",
   "metadata": {},
   "source": [
    "## Symbolic Math"
   ]
  },
  {
   "cell_type": "markdown",
   "metadata": {},
   "source": [
    "## Equation for quaternion\n",
    "We provide two options for obtaining the quaternon.\n",
    "In the case where a `numpy` array with four quaternion components are provided, we will obtain using the standard syntax `Quaternion(qw, qx, qy, qz)`.\n",
    "In the case where a single component is provided, we will assume that this is a planar model with an angle evaluated about the $z$-axis, and obtain with the `Quaternion.from_axis_angle` class method.\n",
    "We also will create the `idx_dimension` variable which shrinks subsequent matrices and vectors to use only the first two ($x$ and $y$) components."
   ]
  },
  {
   "cell_type": "code",
   "execution_count": 2,
   "metadata": {},
   "outputs": [
    {
     "data": {
      "text/latex": [
       "$\\displaystyle \\cos{\\left(\\frac{θ}{2} \\right)} + 0 i + 0 j + \\sin{\\left(\\frac{θ}{2} \\right)} k$"
      ],
      "text/plain": [
       "cos(θ/2) + 0*i + 0*j + sin(θ/2)*k"
      ]
     },
     "metadata": {},
     "output_type": "display_data"
    }
   ],
   "source": [
    "display(quaternion_2d)"
   ]
  },
  {
   "cell_type": "code",
   "execution_count": 3,
   "metadata": {},
   "outputs": [
    {
     "data": {
      "text/latex": [
       "$\\displaystyle q_{w} + q_{x} i + q_{y} j + q_{z} k$"
      ],
      "text/plain": [
       "q_w + q_x*i + q_y*j + q_z*k"
      ]
     },
     "metadata": {},
     "output_type": "display_data"
    }
   ],
   "source": [
    "display(quaternion_3d)"
   ]
  },
  {
   "cell_type": "markdown",
   "metadata": {},
   "source": [
    "## Equation for gaussian"
   ]
  },
  {
   "cell_type": "markdown",
   "metadata": {},
   "source": [
    "The Gaussian equation that is created below uses the variance term _not-squared_, while in the plot I square this term.\n",
    "There is reason for this; the variance that I will use below is going to be of the form\n",
    "\n",
    "$\\texttt{variance} = \\sum_{i=1}^3 \\left( \\frac{x_i - \\bar{x}_i}{s_i} \\right)^2$\n",
    "\n",
    "where $x_i$ is a position coordinate for where we are measuring, $\\bar{x}_i$ is the position coordinate for the center of the Gaussian, and $s_i$ is a scale coefficient representing one standard deviation in the direction of that coordinate.\n",
    "Traditionally, we would evaluate the Gaussian at some count of standard deviations, which would derive from the square-root of the above expression.\n",
    "To avoid taking a square-root, just to subsequently square the term again, we create the Gaussian as a function of the variance directly.\n",
    "However, the plot below shows an evaluation of the Gaussian with respect to standard deviations."
   ]
  },
  {
   "cell_type": "code",
   "execution_count": 4,
   "metadata": {},
   "outputs": [
    {
     "data": {
      "image/png": "[encoded data removed]",
      "text/plain": [
       "<Figure size 432x288 with 1 Axes>"
      ]
     },
     "metadata": {
      "needs_background": "light"
     },
     "output_type": "display_data"
    }
   ],
   "source": [
    "stdev = np.linspace(-3, 3, 121);\n",
    "plt.plot(stdev, np.exp(-0.5 * stdev**2));\n",
    "plt.xlabel(\"Standard Deviations\");\n",
    "plt.ylabel(\"Gaussian\");"
   ]
  },
  {
   "cell_type": "markdown",
   "metadata": {},
   "source": [
    "Here we create a function that obtains the rotation matrix from the quaternion, along with some simplification steps.\n",
    "First, we substitute a value of 1 for the quaternion norm, as we will ensure that it is always a proper unit quaternion.\n",
    "Second, we call the standard `simplify()` function."
   ]
  },
  {
   "cell_type": "code",
   "execution_count": 5,
   "metadata": {},
   "outputs": [
    {
     "data": {
      "text/latex": [
       "$\\displaystyle \\left[\\begin{matrix}\\cos{\\left(θ \\right)} & - \\sin{\\left(θ \\right)}\\\\\\sin{\\left(θ \\right)} & \\cos{\\left(θ \\right)}\\end{matrix}\\right]$"
      ],
      "text/plain": [
       "Matrix([\n",
       "[cos(θ), -sin(θ)],\n",
       "[sin(θ),  cos(θ)]])"
      ]
     },
     "metadata": {},
     "output_type": "display_data"
    }
   ],
   "source": [
    "display(rotation_eqn_2d)"
   ]
  },
  {
   "cell_type": "code",
   "execution_count": 6,
   "metadata": {},
   "outputs": [
    {
     "data": {
      "text/latex": [
       "$\\displaystyle \\left[\\begin{matrix}- 2 q_{y}^{2} - 2 q_{z}^{2} + 1 & - 2 q_{w} q_{z} + 2 q_{x} q_{y} & 2 q_{w} q_{y} + 2 q_{x} q_{z}\\\\2 q_{w} q_{z} + 2 q_{x} q_{y} & - 2 q_{x}^{2} - 2 q_{z}^{2} + 1 & - 2 q_{w} q_{x} + 2 q_{y} q_{z}\\\\- 2 q_{w} q_{y} + 2 q_{x} q_{z} & 2 q_{w} q_{x} + 2 q_{y} q_{z} & - 2 q_{x}^{2} - 2 q_{y}^{2} + 1\\end{matrix}\\right]$"
      ],
      "text/plain": [
       "Matrix([\n",
       "[-2*q_y**2 - 2*q_z**2 + 1,   -2*q_w*q_z + 2*q_x*q_y,    2*q_w*q_y + 2*q_x*q_z],\n",
       "[   2*q_w*q_z + 2*q_x*q_y, -2*q_x**2 - 2*q_z**2 + 1,   -2*q_w*q_x + 2*q_y*q_z],\n",
       "[  -2*q_w*q_y + 2*q_x*q_z,    2*q_w*q_x + 2*q_y*q_z, -2*q_x**2 - 2*q_y**2 + 1]])"
      ]
     },
     "metadata": {},
     "output_type": "display_data"
    }
   ],
   "source": [
    "display(rotation_eqn_3d)"
   ]
  },
  {
   "cell_type": "markdown",
   "metadata": {},
   "source": [
    "Velocity away from the center of the Gaussian takes the form\n",
    "\n",
    "$\\boldsymbol{x} = (x, y, z, u, v, w, s_x, s_y, s_z, q_w, q_x, q_y, q_z)$\n",
    "\n",
    "$\\boldsymbol{x}_p = (x_p, y_p, z_p)$\n",
    "\n",
    "$\\boldsymbol{v(\\boldsymbol{x}, \\boldsymbol{x}_p)} = \\boldsymbol{v_0(\\boldsymbol{x})} g(\\boldsymbol{x}, \\boldsymbol{x}_p)$"
   ]
  },
  {
   "cell_type": "code",
   "execution_count": 7,
   "metadata": {},
   "outputs": [
    {
     "data": {
      "text/latex": [
       "$\\displaystyle \\left[\\begin{matrix}u e^{- \\frac{0.5 \\left(\\left(- x + x_{p}\\right) \\sin{\\left(θ \\right)} + \\left(- y + y_{p}\\right) \\cos{\\left(θ \\right)}\\right)^{2}}{s_{y}^{2}} - \\frac{0.5 \\left(\\left(- x + x_{p}\\right) \\cos{\\left(θ \\right)} - \\left(- y + y_{p}\\right) \\sin{\\left(θ \\right)}\\right)^{2}}{s_{x}^{2}}}\\\\v e^{- \\frac{0.5 \\left(\\left(- x + x_{p}\\right) \\sin{\\left(θ \\right)} + \\left(- y + y_{p}\\right) \\cos{\\left(θ \\right)}\\right)^{2}}{s_{y}^{2}} - \\frac{0.5 \\left(\\left(- x + x_{p}\\right) \\cos{\\left(θ \\right)} - \\left(- y + y_{p}\\right) \\sin{\\left(θ \\right)}\\right)^{2}}{s_{x}^{2}}}\\end{matrix}\\right]$"
      ],
      "text/plain": [
       "Matrix([\n",
       "[u*exp(-0.5*((-x + x_p)*sin(θ) + (-y + y_p)*cos(θ))**2/s_y**2 - 0.5*((-x + x_p)*cos(θ) - (-y + y_p)*sin(θ))**2/s_x**2)],\n",
       "[v*exp(-0.5*((-x + x_p)*sin(θ) + (-y + y_p)*cos(θ))**2/s_y**2 - 0.5*((-x + x_p)*cos(θ) - (-y + y_p)*sin(θ))**2/s_x**2)]])"
      ]
     },
     "metadata": {},
     "output_type": "display_data"
    }
   ],
   "source": [
    "display(Matrix(velocity_eqn_2d))"
   ]
  },
  {
   "cell_type": "markdown",
   "metadata": {},
   "source": [
    "We see the variance contained in the exponent"
   ]
  },
  {
   "cell_type": "code",
   "execution_count": 8,
   "metadata": {},
   "outputs": [
    {
     "data": {
      "text/latex": [
       "$\\displaystyle \\frac{\\left(\\left(- x + x_{p}\\right) \\sin{\\left(θ \\right)} + \\left(- y + y_{p}\\right) \\cos{\\left(θ \\right)}\\right)^{2}}{s_{y}^{2}} + \\frac{\\left(\\left(- x + x_{p}\\right) \\cos{\\left(θ \\right)} - \\left(- y + y_{p}\\right) \\sin{\\left(θ \\right)}\\right)^{2}}{s_{x}^{2}}$"
      ],
      "text/plain": [
       "((-x + x_p)*sin(θ) + (-y + y_p)*cos(θ))**2/s_y**2 + ((-x + x_p)*cos(θ) - (-y + y_p)*sin(θ))**2/s_x**2"
      ]
     },
     "metadata": {},
     "output_type": "display_data"
    }
   ],
   "source": [
    "display(variance_eqn_2d)"
   ]
  },
  {
   "cell_type": "markdown",
   "metadata": {},
   "source": [
    "### Velocity derivative equations\n",
    "\n",
    "Velocity is 1x2 or 1x3\n",
    "\n",
    "Variance derivates are 1xN\n",
    "\n",
    "$$\n",
    "\\frac{\\partial \\boldsymbol{v(\\boldsymbol{x}, \\boldsymbol{x}_p)} }{\\partial x_i}\n",
    "= \n",
    "\\frac{\\partial \\boldsymbol{v_0(\\boldsymbol{x})}}{\\partial x_i}\n",
    "g(\\boldsymbol{x}, \\boldsymbol{x}_p)\n",
    "+\n",
    "\\boldsymbol{v_0(\\boldsymbol{x})}\n",
    "\\frac{\\partial g(\\boldsymbol{x}, \\boldsymbol{x}_p)}{\\partial x_i}\n",
    "$$"
   ]
  },
  {
   "cell_type": "markdown",
   "metadata": {},
   "source": [
    "## Create Splatting Class"
   ]
  },
  {
   "cell_type": "code",
   "execution_count": 9,
   "metadata": {},
   "outputs": [],
   "source": [
    "class AeroSplat:\n",
    "    position = np.zeros(3)\n",
    "    velocity = np.zeros(3)\n",
    "    scale = np.ones(3)\n",
    "    orientation = np.array([1, 0, 0, 0])\n",
    "    \n",
    "    def __init__(self, **kwargs):\n",
    "        for key, value in kwargs.items():\n",
    "            setattr(self, key, np.array(value))\n",
    "    \n",
    "    def __repr__(self):\n",
    "        return f\"AeroSplat(position={self.position}, velocity={self.velocity}, scale={self.scale}, orientation={self.orientation})\"\n",
    "    \n",
    "    @property\n",
    "    def is2d(self):\n",
    "        return len(self.position) == 2\n",
    "    \n",
    "    @property\n",
    "    def properties(self):\n",
    "        return np.concatenate([self.position, self.velocity, self.scale, self.orientation])\n",
    "    \n",
    "    @property\n",
    "    def quaternion(self):\n",
    "        return quat(*self.orientation) if self.is2d else quat(self.orientation)\n",
    "    \n",
    "    @property\n",
    "    def rotation_matrix(self):\n",
    "        return rotation_fcn_2d(*self.orientation) if self.is2d else rotation_fcn_3d(*self.orientation)\n",
    "    \n",
    "    @property\n",
    "    def scale_matrix(self):\n",
    "        return np.diag(self.scale)\n",
    "    \n",
    "    def properties_at(self, position):\n",
    "        return list(self.properties) + list(position)\n",
    "\n",
    "    def variance_at(self, position):\n",
    "        f = variance_fcn_2d if self.is2d else variance_fcn_3d\n",
    "        return f(*self.properties_at(position))\n",
    "\n",
    "    def variance_gradient_at(self, position):\n",
    "        f = variance_gradient_fcn_2d if self.is2d else variance_gradient_fcn_3d\n",
    "        gradient = f(*self.properties_at(position))\n",
    "        return np.array(gradient)\n",
    "\n",
    "    def gaussian_at(self, position):\n",
    "        return np.exp(-0.5 * self.variance_at(position))\n",
    "\n",
    "    def gaussian_gradient_at(self, position):\n",
    "        return -0.5 * self.variance_gradient_at(position) * self.gaussian_at(position)\n",
    "\n",
    "    def velocity_at(self, position):\n",
    "        return self.velocity * self.gaussian_at(position)\n",
    "    \n",
    "    def velocity_gradient_at(self, position):\n",
    "        return self.velocity * self.gaussian_gradient_at(position)\n",
    "\n",
    "    def differential_velocity_at(self, position):\n",
    "        f = diff_velocity_fcn_2d if self.is2d else diff_velocity_fcn_3d\n",
    "        return f(*self.properties_at(position))\n",
    "\n",
    "        "
   ]
  },
  {
   "cell_type": "code",
   "execution_count": 10,
   "metadata": {},
   "outputs": [
    {
     "data": {
      "text/plain": [
       "AeroSplat(position=[0 0], velocity=[1 0], scale=[1 1], orientation=[0])"
      ]
     },
     "metadata": {},
     "output_type": "display_data"
    },
    {
     "data": {
      "text/latex": [
       "$\\displaystyle 1 + 0 i + 0 j + 0 k$"
      ],
      "text/plain": [
       "1 + 0*i + 0*j + 0*k"
      ]
     },
     "metadata": {},
     "output_type": "display_data"
    },
    {
     "data": {
      "text/plain": [
       "array([[ 1., -0.],\n",
       "       [ 0.,  1.]])"
      ]
     },
     "metadata": {},
     "output_type": "display_data"
    },
    {
     "data": {
      "text/plain": [
       "array([0.13533528, 0.        ])"
      ]
     },
     "metadata": {},
     "output_type": "display_data"
    },
    {
     "data": {
      "text/plain": [
       "array([[ 0.27067057,  0.        ],\n",
       "       [ 0.        ,  0.        ],\n",
       "       [ 0.13533528,  0.        ],\n",
       "       [ 0.        ,  0.13533528],\n",
       "       [ 0.54134113,  0.        ],\n",
       "       [ 0.        ,  0.        ],\n",
       "       [-0.        , -0.        ]])"
      ]
     },
     "metadata": {},
     "output_type": "display_data"
    }
   ],
   "source": [
    "a = AeroSplat(\n",
    "    position=[0, 0], \n",
    "    velocity=[1, 0],\n",
    "    scale=[1, 1],\n",
    "    orientation=[0]\n",
    ")\n",
    "display(a)\n",
    "display(a.quaternion)\n",
    "display(a.rotation_matrix)\n",
    "display(a.velocity_at(np.array([2, 0])))\n",
    "display(a.differential_velocity_at(np.array([2, 0])))"
   ]
  },
  {
   "cell_type": "markdown",
   "metadata": {},
   "source": [
    "## Create Boundary Condition Class"
   ]
  },
  {
   "cell_type": "code",
   "execution_count": 11,
   "metadata": {},
   "outputs": [],
   "source": [
    "class LineBoundary:\n",
    "    point0 = np.zeros(3)\n",
    "    point1 = np.zeros(3)\n",
    "    velocity = np.zeros(3)\n",
    "    \n",
    "    def __init__(self, point0=[0, 0, 0], point1=[0, 0, 0], velocity=[0, 0, 0]):\n",
    "        self.point0 = np.array(point0)\n",
    "        self.point1 = np.array(point1)\n",
    "        self.velocity = np.array(velocity)\n",
    "        \n",
    "    def __repr__(self):\n",
    "        return f\"LineBoundary(point0={self.point0}, point1={self.point1}, velocity={self.velocity})\"\n",
    "    \n",
    "    def point_at(self, weighted_distance):\n",
    "        return (1 - weighted_distance) * self.point0 + weighted_distance * self.point1\n",
    "    \n",
    "    def point_at_random(self):\n",
    "        return self.point_at(random.uniform(0, 1))"
   ]
  },
  {
   "cell_type": "code",
   "execution_count": 12,
   "metadata": {},
   "outputs": [
    {
     "name": "stdout",
     "output_type": "stream",
     "text": [
      "LineBoundary(point0=[ 0 -1], point1=[0 1], velocity=[10  0])\n",
      "[0.         0.06530625]\n"
     ]
    }
   ],
   "source": [
    "source_boundary = LineBoundary(point0=[0, -1], point1=[0, 1], velocity=[10, 0])\n",
    "plate_boundary = LineBoundary(point0=[1, -0.1], point1=[1, 0.1], velocity=[0, 0])\n",
    "print(source_boundary)\n",
    "print(source_boundary.point_at_random())"
   ]
  },
  {
   "cell_type": "markdown",
   "metadata": {},
   "source": [
    "## Create Problem Definition Class"
   ]
  },
  {
   "cell_type": "code",
   "execution_count": 13,
   "metadata": {},
   "outputs": [],
   "source": [
    "class AeroSplatProblem:\n",
    "    domain_x = np.zeros(2)\n",
    "    domain_y = np.zeros(2)\n",
    "    domain_z = np.zeros(2)\n",
    "    \n",
    "    splats = []\n",
    "    boundaries = []\n",
    "    \n",
    "    def __init__(self, domain_x=[0, 0], domain_y=[0, 0], domain_z=[0, 0], boundaries=[], spawn: int = None):\n",
    "        self.domain_x = np.array(domain_x)\n",
    "        self.domain_y = np.array(domain_y)\n",
    "        self.domain_z = np.array(domain_z)\n",
    "        self.boundaries = boundaries\n",
    "        if spawn:\n",
    "            self.spawn_random_splats(spawn)\n",
    "\n",
    "    def __repr__(self):\n",
    "        repr_str = \"AeroSplatProblem(\"\n",
    "        repr_str += f\"\\n  domain_x={self.domain_x}\" if not all(self.domain_x == 0) else \"\"\n",
    "        repr_str += f\"\\n  domain_y={self.domain_y}\" if not all(self.domain_y == 0) else \"\"\n",
    "        repr_str += f\"\\n  domain_z={self.domain_z}\" if not all(self.domain_z == 0) else \"\"\n",
    "        repr_str += f\"\\n  boundaries={self.boundaries}\" if self.boundaries else \"\"\n",
    "        repr_str += \"\\n)\"\n",
    "        return repr_str\n",
    "    \n",
    "    @property\n",
    "    def ndims(self):\n",
    "        return 3 if self.domain_z[1] != self.domain_z[0] else 2\n",
    "    \n",
    "    def point_at_random(self):\n",
    "        x = random.uniform(*self.domain_x)\n",
    "        y = random.uniform(*self.domain_y)\n",
    "        z = random.uniform(*self.domain_z)\n",
    "        return np.array([x, y, z]) if self.ndims == 3 else np.array([x, y])\n",
    "    \n",
    "    def point_at_weights(self, weight_x, weight_y, weight_z):\n",
    "        weights = weight_x, weight_y, weight_z\n",
    "        domains = self.domain_x, self.domain_y, self.domain_z\n",
    "        return [(1-w)*d[0] + w*d[1] for w, d in zip(weights, domains)]\n",
    "\n",
    "    def point_grid(self, nx=10, ny=10, nz=1):\n",
    "        grid = [[[self.point_at_weights(k/(nx-1), j/(ny-1), i/(nz-1) if nz > 1 else 0) \n",
    "                  for k in range(nx)] for j in range(ny)] for i in range(nz)]\n",
    "        grid = np.array(grid)\n",
    "        # grid will be in [page->z][row->y][column->x] index ordering\n",
    "        return grid if self.ndims == 3 else grid[0, :, :, :2]\n",
    "\n",
    "    def random_splat(self):\n",
    "        return AeroSplat(\n",
    "            position=self.point_at_random(),\n",
    "            velocity=np.array(np.random.normal(size=self.ndims)), #np.zeros(self.ndims),\n",
    "            scale=0.1 + 0.2*np.array(np.random.uniform(size=self.ndims)), #0.1*np.ones(self.ndims),\n",
    "            orientation=[0] if self.ndims == 2 else [1, 0, 0, 0]\n",
    "        )\n",
    "\n",
    "    def spawn_random_splats(self, quantity, clear=True):\n",
    "        self.splats = [] if clear else self.splats\n",
    "        for _ in range(quantity):\n",
    "            self.splats.append(self.random_splat())\n",
    "\n",
    "    def velocity_on_grid(self, nx=10, ny=10, nz=1):\n",
    "        grid = self.point_grid(nx, ny, nz)\n",
    "        velocity_grid = np.zeros(grid.shape)\n",
    "        if self.ndims == 2:\n",
    "            velocity_grid = [[sum([splat.velocity_at(grid[j, k]) for splat in self.splats]) \n",
    "                              for k in range(nx)] for j in range(ny)]\n",
    "        else:\n",
    "            velocity_grid = [[[sum([splat.velocity_at(grid[i, j, k]) for splat in self.splats]) \n",
    "                              for k in range(nx)] for j in range(ny)] for i in range(nz)]\n",
    "        return np.array(velocity_grid)\n",
    "    \n",
    "    def velocity_gradient_on_grid(self, nx=10, ny=10, nz=1):\n",
    "        grid = self.point_grid(nx, ny, nz)\n",
    "        gradient_grid = np.zeros(grid.shape)\n",
    "        if self.ndims == 2:\n",
    "            gradient_grid = [[sum([splat.velocity_gradient_at(grid[j, k]) for splat in self.splats]) \n",
    "                              for k in range(nx)] for j in range(ny)]\n",
    "        else:\n",
    "            gradient_grid = [[[sum([splat.velocity_gradient_at(grid[i, j, k]) for splat in self.splats]) \n",
    "                              for k in range(nx)] for j in range(ny)] for i in range(nz)]\n",
    "        return np.array(gradient_grid)"
   ]
  },
  {
   "cell_type": "code",
   "execution_count": 14,
   "metadata": {},
   "outputs": [
    {
     "name": "stdout",
     "output_type": "stream",
     "text": [
      "AeroSplatProblem(\n",
      "  domain_x=[0 2]\n",
      "  domain_y=[-1  1]\n",
      "  boundaries=[LineBoundary(point0=[ 0 -1], point1=[0 1], velocity=[10  0]), LineBoundary(point0=[ 1.  -0.1], point1=[1.  0.1], velocity=[0 0])]\n",
      ")\n"
     ]
    }
   ],
   "source": [
    "problem = AeroSplatProblem(\n",
    "    domain_x=[0, 2], \n",
    "    domain_y=[-1, 1],\n",
    "    boundaries=[source_boundary, plate_boundary],\n",
    "    spawn=20\n",
    ")\n",
    "print(problem)"
   ]
  },
  {
   "cell_type": "code",
   "execution_count": 15,
   "metadata": {},
   "outputs": [
    {
     "name": "stdout",
     "output_type": "stream",
     "text": [
      "[[[-0.02885789 -0.13923935]\n",
      "  [ 0.05538415 -0.03903078]]\n",
      "\n",
      " [[-0.08810318 -1.04601066]\n",
      "  [-0.59606597  1.04185594]]]\n",
      "2\n",
      "[AeroSplat(position=[ 0.91841188 -0.7068429 ], velocity=[ 1.29570484 -0.24005111], scale=[0.21929062 0.11149891], orientation=[0]), AeroSplat(position=[ 1.60202068 -0.38124339], velocity=[ 1.45174752 -1.0213606 ], scale=[0.28373588 0.28937915], orientation=[0]), AeroSplat(position=[ 0.35459899 -0.2331739 ], velocity=[-1.98630621 -0.24260446], scale=[0.25158536 0.23049915], orientation=[0]), AeroSplat(position=[1.81024533 0.99295849], velocity=[-0.60983172  1.08732828], scale=[0.27933663 0.24218898], orientation=[0]), AeroSplat(position=[ 0.08243033 -0.21997251], velocity=[-0.77763521 -2.3038597 ], scale=[0.15834369 0.16100911], orientation=[0]), AeroSplat(position=[ 0.02363427 -0.72868436], velocity=[0.04354823 0.48347084], scale=[0.15917372 0.19111162], orientation=[0]), AeroSplat(position=[0.16440994 0.65176864], velocity=[ 0.12507283 -0.65170562], scale=[0.17975186 0.26759712], orientation=[0]), AeroSplat(position=[ 0.34550203 -0.09168805], velocity=[ 0.31803608 -2.12251002], scale=[0.28017852 0.20238086], orientation=[0]), AeroSplat(position=[0.12956761 0.91762214], velocity=[-0.13370226 -0.9904035 ], scale=[0.25742134 0.28415399], orientation=[0]), AeroSplat(position=[ 0.0054257  -0.76254843], velocity=[-0.11624624 -0.57905954], scale=[0.19439901 0.22619075], orientation=[0]), AeroSplat(position=[0.93349397 0.3815214 ], velocity=[-0.85878466 -0.8948148 ], scale=[0.23348472 0.21700765], orientation=[0]), AeroSplat(position=[1.35831483 0.49479323], velocity=[-0.5140155  -0.05480206], scale=[0.25583808 0.19359777], orientation=[0]), AeroSplat(position=[0.17087936 0.26821937], velocity=[1.33571415 0.21369448], scale=[0.14485475 0.25536995], orientation=[0]), AeroSplat(position=[ 0.36391919 -0.91618404], velocity=[-0.20098369  0.16338182], scale=[0.13906508 0.25263386], orientation=[0]), AeroSplat(position=[0.60698839 0.81073453], velocity=[-1.29696556 -1.64440961], scale=[0.21764633 0.28911406], orientation=[0]), AeroSplat(position=[ 0.71369947 -0.52514366], velocity=[ 0.56919547 -0.15328632], scale=[0.29952632 0.11322268], orientation=[0]), AeroSplat(position=[ 0.45839085 -0.74709076], velocity=[0.77531014 0.37711652], scale=[0.25843891 0.13993582], orientation=[0]), AeroSplat(position=[ 1.0352671  -0.78413964], velocity=[ 0.15857191 -0.16626845], scale=[0.27110156 0.24494373], orientation=[0]), AeroSplat(position=[1.19971606 0.81587931], velocity=[-0.19026645  1.05246936], scale=[0.13611652 0.13623475], orientation=[0]), AeroSplat(position=[1.59700299 0.80812311], velocity=[-0.98406219  1.58186949], scale=[0.25607239 0.13990045], orientation=[0])]\n"
     ]
    }
   ],
   "source": [
    "print(problem.velocity_on_grid(2, 2))\n",
    "print(problem.ndims)\n",
    "print(problem.splats)"
   ]
  },
  {
   "cell_type": "code",
   "execution_count": 16,
   "metadata": {},
   "outputs": [
    {
     "data": {
      "image/png": "[encoded data removed]",
      "text/plain": [
       "<Figure size 432x288 with 1 Axes>"
      ]
     },
     "metadata": {
      "needs_background": "light"
     },
     "output_type": "display_data"
    }
   ],
   "source": [
    "splat_positions = np.array([[splat.position[0], splat.position[1]] for splat in problem.splats])\n",
    "plt.plot(splat_positions[:, 0], splat_positions[:, 1], \"o\");\n",
    "plt.xlim(problem.domain_x);\n",
    "plt.ylim(problem.domain_y);"
   ]
  },
  {
   "cell_type": "code",
   "execution_count": 17,
   "metadata": {},
   "outputs": [
    {
     "data": {
      "image/png": "[encoded data removed]",
      "text/plain": [
       "<Figure size 432x288 with 2 Axes>"
      ]
     },
     "metadata": {
      "needs_background": "light"
     },
     "output_type": "display_data"
    }
   ],
   "source": [
    "nx = 101\n",
    "ny = 51\n",
    "grid = problem.point_grid(nx, ny)\n",
    "velocity_field = problem.velocity_on_grid(nx, ny)\n",
    "contour_x = np.array([grid[0, k, 0] for k in range(nx)])\n",
    "contour_y = np.array([grid[j, 0, 1] for j in range(ny)])\n",
    "contour_z = np.array([[np.linalg.norm(velocity_field[j, k, :]) for k in range(nx)] for j in range(ny)])\n",
    "plt.contourf(contour_x, contour_y, contour_z, cmap=\"turbo\");\n",
    "plt.colorbar();"
   ]
  },
  {
   "cell_type": "code",
   "execution_count": 18,
   "metadata": {},
   "outputs": [
    {
     "data": {
      "image/png": "[encoded data removed]",
      "text/plain": [
       "<Figure size 432x288 with 2 Axes>"
      ]
     },
     "metadata": {
      "needs_background": "light"
     },
     "output_type": "display_data"
    }
   ],
   "source": [
    "gradient_field = problem.velocity_gradient_on_grid(nx, ny)\n",
    "contour_z = np.array([[np.linalg.norm(gradient_field[j, k, :]) for k in range(nx)] for j in range(ny)])\n",
    "plt.contourf(contour_x, contour_y, contour_z, cmap=\"turbo\");\n",
    "plt.colorbar();"
   ]
  },
  {
   "cell_type": "code",
   "execution_count": null,
   "metadata": {},
   "outputs": [],
   "source": []
  }
 ],
 "metadata": {
  "kernelspec": {
   "display_name": "base",
   "language": "python",
   "name": "python3"
  },
  "language_info": {
   "codemirror_mode": {
    "name": "ipython",
    "version": 3
   },
   "file_extension": ".py",
   "mimetype": "text/x-python",
   "name": "python",
   "nbconvert_exporter": "python",
   "pygments_lexer": "ipython3",
   "version": "3.7.13"
  }
 },
 "nbformat": 4,
 "nbformat_minor": 4
}
