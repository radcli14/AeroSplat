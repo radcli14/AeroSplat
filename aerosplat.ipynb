{
 "cells": [
  {
   "cell_type": "markdown",
   "metadata": {},
   "source": [
    "# Aerodynamic Splatting"
   ]
  },
  {
   "cell_type": "code",
   "execution_count": 1,
   "metadata": {},
   "outputs": [],
   "source": [
    "import numpy as np\n",
    "from sympy import symbols, diff, Quaternion, exp, Matrix, lambdify, sin, cos, simplify\n",
    "#from sympy.physics.mechanics import *\n",
    "import random\n",
    "from IPython.display import display\n",
    "import matplotlib.pyplot as plt"
   ]
  },
  {
   "cell_type": "markdown",
   "metadata": {},
   "source": [
    "## Create Symbolic Functions"
   ]
  },
  {
   "cell_type": "markdown",
   "metadata": {},
   "source": [
    "### Properties of the splat"
   ]
  },
  {
   "cell_type": "code",
   "execution_count": 2,
   "metadata": {},
   "outputs": [],
   "source": [
    "x, y, z, u, v, w, sx, sy, sz, qw, qx, qy, qz, θ = symbols(\"x, y, z, u, v, w, s_x, s_y, s_z, q_w, q_x, q_y, q_z, θ\")\n",
    "position = np.array([x, y, z])\n",
    "velocity = np.array([u, v, w])\n",
    "scale = np.array([sx, sy, sz])\n",
    "orientation_2d = θ\n",
    "orientation_3d = np.array([qw, qx, qy, qz])\n",
    "splat_properties_2d = [x, y, u, v, sx, sy, θ]\n",
    "splat_properties_2d_example = [0, 0] + [1, 0] + [1, 1] + [0] + [2, 0]\n",
    "splat_properties_3d = [x, y, z, u, v, w, sx, sy, sz, qw, qx, qy, qz]\n",
    "splat_properties_3d_example = [0, 0, 0] + [1, 0, 0] + [1, 1, 1] + [1, 0, 0, 0] + [2, 0, 0] "
   ]
  },
  {
   "cell_type": "markdown",
   "metadata": {},
   "source": [
    "### Position for evaluation of the splat equations"
   ]
  },
  {
   "cell_type": "code",
   "execution_count": 3,
   "metadata": {},
   "outputs": [],
   "source": [
    "xp, yp, zp = symbols(\"x_p, y_p, z_p\")\n",
    "eval_coords_2d = [xp, yp]\n",
    "eval_coords_3d = [xp, yp, zp]\n",
    "eval_at_position = np.array(eval_coords_3d)"
   ]
  },
  {
   "cell_type": "markdown",
   "metadata": {},
   "source": [
    "## Equation for quaternion\n",
    "We provide two options for obtaining the quaternon.\n",
    "In the case where a `numpy` array with four quaternion components are provided, we will obtain using the standard syntax `Quaternion(qw, qx, qy, qz)`.\n",
    "In the case where a single component is provided, we will assume that this is a planar model with an angle evaluated about the $z$-axis, and obtain with the `Quaternion.from_axis_angle` class method.\n",
    "We also will create the `idx_dimension` variable which shrinks subsequent matrices and vectors to use only the first two ($x$ and $y$) components."
   ]
  },
  {
   "cell_type": "code",
   "execution_count": 4,
   "metadata": {},
   "outputs": [],
   "source": [
    "def quat(q):\n",
    "    if isinstance(q, np.ndarray) :\n",
    "        return Quaternion(*q) \n",
    "    else: \n",
    "        return Quaternion.from_axis_angle([0, 0, 1], q)\n",
    "idx_dimension = lambda orientation: 3 if isinstance(orientation, np.ndarray) else 2"
   ]
  },
  {
   "cell_type": "code",
   "execution_count": 5,
   "metadata": {},
   "outputs": [
    {
     "data": {
      "text/latex": [
       "$\\displaystyle \\cos{\\left(\\frac{θ}{2} \\right)} + 0 i + 0 j + \\sin{\\left(\\frac{θ}{2} \\right)} k$"
      ],
      "text/plain": [
       "cos(θ/2) + 0*i + 0*j + sin(θ/2)*k"
      ]
     },
     "metadata": {},
     "output_type": "display_data"
    }
   ],
   "source": [
    "quaternion_2d = quat(orientation_2d)\n",
    "display(quaternion_2d)"
   ]
  },
  {
   "cell_type": "code",
   "execution_count": 6,
   "metadata": {},
   "outputs": [
    {
     "data": {
      "text/latex": [
       "$\\displaystyle q_{w} + q_{x} i + q_{y} j + q_{z} k$"
      ],
      "text/plain": [
       "q_w + q_x*i + q_y*j + q_z*k"
      ]
     },
     "metadata": {},
     "output_type": "display_data"
    }
   ],
   "source": [
    "quaternion_3d = quat(orientation_3d)\n",
    "display(quaternion_3d)"
   ]
  },
  {
   "cell_type": "markdown",
   "metadata": {},
   "source": [
    "## Equation for gaussian"
   ]
  },
  {
   "cell_type": "markdown",
   "metadata": {},
   "source": [
    "The Gaussian equation that is created below uses the variance term _not-squared_, while in the plot I square this term.\n",
    "There is reason for this; the variance that I will use below is going to be of the form\n",
    "\n",
    "$\\texttt{variance} = \\sum_{i=1}^3 \\left( \\frac{x_i - \\bar{x}_i}{s_i} \\right)^2$\n",
    "\n",
    "where $x_i$ is a position coordinate for where we are measuring, $\\bar{x}_i$ is the position coordinate for the center of the Gaussian, and $s_i$ is a scale coefficient representing one standard deviation in the direction of that coordinate.\n",
    "Traditionally, we would evaluate the Gaussian at some count of standard deviations, which would derive from the square-root of the above expression.\n",
    "To avoid taking a square-root, just to subsequently square the term again, we create the Gaussian as a function of the variance directly.\n",
    "However, the plot below shows an evaluation of the Gaussian with respect to standard deviations."
   ]
  },
  {
   "cell_type": "code",
   "execution_count": 7,
   "metadata": {},
   "outputs": [
    {
     "data": {
      "image/png": "[encoded data removed]",
      "text/plain": [
       "<Figure size 432x288 with 1 Axes>"
      ]
     },
     "metadata": {
      "needs_background": "light"
     },
     "output_type": "display_data"
    }
   ],
   "source": [
    "gaussian = lambda variance: exp(-0.5 * variance)\n",
    "stdev = np.linspace(-3, 3, 121);\n",
    "plt.plot(stdev, np.exp(-0.5 * stdev**2));\n",
    "plt.xlabel(\"Standard Deviations\");\n",
    "plt.ylabel(\"Gaussian\");"
   ]
  },
  {
   "cell_type": "markdown",
   "metadata": {},
   "source": [
    "Here we create a function that obtains the rotation matrix from the quaternion, along with some simplification steps.\n",
    "First, we substitute a value of 1 for the quaternion norm, as we will ensure that it is always a proper unit quaternion.\n",
    "Second, we call the standard `simplify()` function."
   ]
  },
  {
   "cell_type": "code",
   "execution_count": 8,
   "metadata": {},
   "outputs": [],
   "source": [
    "def rotation_matrix_eqn(orientation):\n",
    "    quaternion = quat(orientation)\n",
    "    rotation_matrix = quaternion.to_rotation_matrix().subs(quaternion.norm(), 1)\n",
    "    rotation_matrix.simplify()\n",
    "    idx = idx_dimension(orientation)\n",
    "    return rotation_matrix[:idx, :idx]"
   ]
  },
  {
   "cell_type": "code",
   "execution_count": 9,
   "metadata": {},
   "outputs": [
    {
     "data": {
      "text/latex": [
       "$\\displaystyle \\left[\\begin{matrix}\\cos{\\left(θ \\right)} & - \\sin{\\left(θ \\right)}\\\\\\sin{\\left(θ \\right)} & \\cos{\\left(θ \\right)}\\end{matrix}\\right]$"
      ],
      "text/plain": [
       "Matrix([\n",
       "[cos(θ), -sin(θ)],\n",
       "[sin(θ),  cos(θ)]])"
      ]
     },
     "metadata": {},
     "output_type": "display_data"
    },
    {
     "data": {
      "text/plain": [
       "array([[ 0.87758256, -0.47942554],\n",
       "       [ 0.47942554,  0.87758256]])"
      ]
     },
     "metadata": {},
     "output_type": "display_data"
    }
   ],
   "source": [
    "rotation_eqn_2d = rotation_matrix_eqn(orientation_2d)\n",
    "rotation_fcn_2d = lambdify(θ, rotation_eqn_2d)\n",
    "display(rotation_eqn_2d)\n",
    "display(rotation_fcn_2d(0.5))"
   ]
  },
  {
   "cell_type": "code",
   "execution_count": 10,
   "metadata": {},
   "outputs": [
    {
     "data": {
      "text/latex": [
       "$\\displaystyle \\left[\\begin{matrix}- 2 q_{y}^{2} - 2 q_{z}^{2} + 1 & - 2 q_{w} q_{z} + 2 q_{x} q_{y} & 2 q_{w} q_{y} + 2 q_{x} q_{z}\\\\2 q_{w} q_{z} + 2 q_{x} q_{y} & - 2 q_{x}^{2} - 2 q_{z}^{2} + 1 & - 2 q_{w} q_{x} + 2 q_{y} q_{z}\\\\- 2 q_{w} q_{y} + 2 q_{x} q_{z} & 2 q_{w} q_{x} + 2 q_{y} q_{z} & - 2 q_{x}^{2} - 2 q_{y}^{2} + 1\\end{matrix}\\right]$"
      ],
      "text/plain": [
       "Matrix([\n",
       "[-2*q_y**2 - 2*q_z**2 + 1,   -2*q_w*q_z + 2*q_x*q_y,    2*q_w*q_y + 2*q_x*q_z],\n",
       "[   2*q_w*q_z + 2*q_x*q_y, -2*q_x**2 - 2*q_z**2 + 1,   -2*q_w*q_x + 2*q_y*q_z],\n",
       "[  -2*q_w*q_y + 2*q_x*q_z,    2*q_w*q_x + 2*q_y*q_z, -2*q_x**2 - 2*q_y**2 + 1]])"
      ]
     },
     "metadata": {},
     "output_type": "display_data"
    },
    {
     "data": {
      "text/plain": [
       "array([[ 1.00000e+00,  0.00000e+00,  0.00000e+00],\n",
       "       [ 0.00000e+00,  3.02000e-04, -9.99698e-01],\n",
       "       [ 0.00000e+00,  9.99698e-01,  3.02000e-04]])"
      ]
     },
     "metadata": {},
     "output_type": "display_data"
    }
   ],
   "source": [
    "rotation_eqn_3d = rotation_matrix_eqn(orientation_3d)\n",
    "rotation_fcn_3d = lambdify(orientation_3d, rotation_eqn_3d)\n",
    "display(rotation_eqn_3d)\n",
    "display(rotation_fcn_3d(0.707, 0.707, 0, 0))"
   ]
  },
  {
   "cell_type": "code",
   "execution_count": 11,
   "metadata": {},
   "outputs": [],
   "source": [
    "def variance_eqn(orientation):\n",
    "    rotation_matrix = rotation_matrix_eqn(orientation)\n",
    "    idx = idx_dimension(orientation)\n",
    "    dx = rotation_matrix[:idx, :idx] @ (eval_at_position[:idx] - position[:idx])\n",
    "    s = dx / scale[:idx]\n",
    "    return np.sum(s**2)"
   ]
  },
  {
   "cell_type": "code",
   "execution_count": 12,
   "metadata": {},
   "outputs": [
    {
     "data": {
      "text/latex": [
       "$\\displaystyle \\frac{\\left(\\left(- x + x_{p}\\right) \\sin{\\left(θ \\right)} + \\left(- y + y_{p}\\right) \\cos{\\left(θ \\right)}\\right)^{2}}{s_{y}^{2}} + \\frac{\\left(\\left(- x + x_{p}\\right) \\cos{\\left(θ \\right)} - \\left(- y + y_{p}\\right) \\sin{\\left(θ \\right)}\\right)^{2}}{s_{x}^{2}}$"
      ],
      "text/plain": [
       "((-x + x_p)*sin(θ) + (-y + y_p)*cos(θ))**2/s_y**2 + ((-x + x_p)*cos(θ) - (-y + y_p)*sin(θ))**2/s_x**2"
      ]
     },
     "metadata": {},
     "output_type": "display_data"
    },
    {
     "data": {
      "text/plain": [
       "4.0"
      ]
     },
     "metadata": {},
     "output_type": "display_data"
    }
   ],
   "source": [
    "variance_eqn_2d = variance_eqn(orientation_2d)\n",
    "variance_fcn_2d = lambdify(splat_properties_2d + eval_coords_2d, variance_eqn_2d)\n",
    "display(variance_eqn_2d)\n",
    "display(variance_fcn_2d(*splat_properties_2d_example))"
   ]
  },
  {
   "cell_type": "code",
   "execution_count": 13,
   "metadata": {},
   "outputs": [
    {
     "data": {
      "text/latex": [
       "$\\displaystyle \\frac{\\left(\\left(- x + x_{p}\\right) \\left(- 2 q_{w} q_{y} + 2 q_{x} q_{z}\\right) + \\left(- y + y_{p}\\right) \\left(2 q_{w} q_{x} + 2 q_{y} q_{z}\\right) + \\left(- z + z_{p}\\right) \\left(- 2 q_{x}^{2} - 2 q_{y}^{2} + 1\\right)\\right)^{2}}{s_{z}^{2}} + \\frac{\\left(\\left(- x + x_{p}\\right) \\left(2 q_{w} q_{z} + 2 q_{x} q_{y}\\right) + \\left(- y + y_{p}\\right) \\left(- 2 q_{x}^{2} - 2 q_{z}^{2} + 1\\right) + \\left(- z + z_{p}\\right) \\left(- 2 q_{w} q_{x} + 2 q_{y} q_{z}\\right)\\right)^{2}}{s_{y}^{2}} + \\frac{\\left(\\left(- x + x_{p}\\right) \\left(- 2 q_{y}^{2} - 2 q_{z}^{2} + 1\\right) + \\left(- y + y_{p}\\right) \\left(- 2 q_{w} q_{z} + 2 q_{x} q_{y}\\right) + \\left(- z + z_{p}\\right) \\left(2 q_{w} q_{y} + 2 q_{x} q_{z}\\right)\\right)^{2}}{s_{x}^{2}}$"
      ],
      "text/plain": [
       "((-x + x_p)*(-2*q_w*q_y + 2*q_x*q_z) + (-y + y_p)*(2*q_w*q_x + 2*q_y*q_z) + (-z + z_p)*(-2*q_x**2 - 2*q_y**2 + 1))**2/s_z**2 + ((-x + x_p)*(2*q_w*q_z + 2*q_x*q_y) + (-y + y_p)*(-2*q_x**2 - 2*q_z**2 + 1) + (-z + z_p)*(-2*q_w*q_x + 2*q_y*q_z))**2/s_y**2 + ((-x + x_p)*(-2*q_y**2 - 2*q_z**2 + 1) + (-y + y_p)*(-2*q_w*q_z + 2*q_x*q_y) + (-z + z_p)*(2*q_w*q_y + 2*q_x*q_z))**2/s_x**2"
      ]
     },
     "metadata": {},
     "output_type": "display_data"
    },
    {
     "data": {
      "text/plain": [
       "4.0"
      ]
     },
     "metadata": {},
     "output_type": "display_data"
    }
   ],
   "source": [
    "variance_eqn_3d = variance_eqn(orientation_3d)\n",
    "variance_fcn_3d = lambdify(splat_properties_3d + eval_coords_3d, variance_eqn_3d)\n",
    "display(variance_eqn_3d)\n",
    "display(variance_fcn_3d(*splat_properties_3d_example))"
   ]
  },
  {
   "cell_type": "markdown",
   "metadata": {},
   "source": [
    "Velocity away from the center of the Gaussian takes the form\n",
    "\n",
    "$\\boldsymbol{x} = (x, y, z, u, v, w, s_x, s_y, s_z, q_w, q_x, q_y, q_z)$\n",
    "\n",
    "$\\boldsymbol{x}_p = (x_p, y_p, z_p)$\n",
    "\n",
    "$\\boldsymbol{v(\\boldsymbol{x}, \\boldsymbol{x}_p)} = \\boldsymbol{v_0(\\boldsymbol{x})} g(\\boldsymbol{x}, \\boldsymbol{x}_p)$"
   ]
  },
  {
   "cell_type": "code",
   "execution_count": 14,
   "metadata": {},
   "outputs": [],
   "source": [
    "def velocity_eqn(orientation):\n",
    "    idx = idx_dimension(orientation)\n",
    "    variance = variance_eqn(orientation)\n",
    "    return velocity[:idx] * gaussian(variance)"
   ]
  },
  {
   "cell_type": "code",
   "execution_count": 15,
   "metadata": {},
   "outputs": [
    {
     "data": {
      "text/latex": [
       "$\\displaystyle \\left[\\begin{matrix}u e^{- \\frac{0.5 \\left(\\left(- x + x_{p}\\right) \\sin{\\left(θ \\right)} + \\left(- y + y_{p}\\right) \\cos{\\left(θ \\right)}\\right)^{2}}{s_{y}^{2}} - \\frac{0.5 \\left(\\left(- x + x_{p}\\right) \\cos{\\left(θ \\right)} - \\left(- y + y_{p}\\right) \\sin{\\left(θ \\right)}\\right)^{2}}{s_{x}^{2}}}\\\\v e^{- \\frac{0.5 \\left(\\left(- x + x_{p}\\right) \\sin{\\left(θ \\right)} + \\left(- y + y_{p}\\right) \\cos{\\left(θ \\right)}\\right)^{2}}{s_{y}^{2}} - \\frac{0.5 \\left(\\left(- x + x_{p}\\right) \\cos{\\left(θ \\right)} - \\left(- y + y_{p}\\right) \\sin{\\left(θ \\right)}\\right)^{2}}{s_{x}^{2}}}\\end{matrix}\\right]$"
      ],
      "text/plain": [
       "Matrix([\n",
       "[u*exp(-0.5*((-x + x_p)*sin(θ) + (-y + y_p)*cos(θ))**2/s_y**2 - 0.5*((-x + x_p)*cos(θ) - (-y + y_p)*sin(θ))**2/s_x**2)],\n",
       "[v*exp(-0.5*((-x + x_p)*sin(θ) + (-y + y_p)*cos(θ))**2/s_y**2 - 0.5*((-x + x_p)*cos(θ) - (-y + y_p)*sin(θ))**2/s_x**2)]])"
      ]
     },
     "metadata": {},
     "output_type": "display_data"
    },
    {
     "data": {
      "text/plain": [
       "[0.1353352832366127, 0.0]"
      ]
     },
     "metadata": {},
     "output_type": "display_data"
    }
   ],
   "source": [
    "velocity_eqn_2d = velocity_eqn(orientation_2d)\n",
    "velocity_fcn_2d = lambdify(splat_properties_2d + eval_coords_2d, list(velocity_eqn_2d))\n",
    "display(Matrix(velocity_eqn_2d))\n",
    "display(velocity_fcn_2d(*splat_properties_2d_example))"
   ]
  },
  {
   "cell_type": "code",
   "execution_count": 16,
   "metadata": {},
   "outputs": [
    {
     "data": {
      "text/plain": [
       "[0.1353352832366127, 0.0, 0.0]"
      ]
     },
     "metadata": {},
     "output_type": "display_data"
    }
   ],
   "source": [
    "velocity_eqn_3d = velocity_eqn(orientation_3d)\n",
    "velocity_fcn_3d = lambdify(splat_properties_3d + eval_coords_3d, list(velocity_eqn_3d))\n",
    "#display(Matrix(velocity_eqn_3d))\n",
    "display(velocity_fcn_3d(*splat_properties_3d_example))"
   ]
  },
  {
   "cell_type": "code",
   "execution_count": 17,
   "metadata": {},
   "outputs": [
    {
     "data": {
      "text/plain": [
       "[-4.0, 0.0, 0, 0, -8.0, -0.0, 0.0]"
      ]
     },
     "metadata": {},
     "output_type": "display_data"
    }
   ],
   "source": [
    "diff_variance_eqn_2d = [diff(variance_eqn_2d, variable) for variable in splat_properties_2d]\n",
    "diff_variance_fcn_2d = lambdify(splat_properties_2d + eval_coords_2d, list(diff_variance_eqn_2d))\n",
    "#display(Matrix(diff_variance_eqn_2d))\n",
    "display(diff_variance_fcn_2d(*splat_properties_2d_example))"
   ]
  },
  {
   "cell_type": "code",
   "execution_count": 18,
   "metadata": {},
   "outputs": [
    {
     "data": {
      "text/plain": [
       "[-4.0, 0.0, 0.0, 0, 0, 0, -8.0, 0.0, 0.0, 0.0, 0.0, 0.0, 0.0]"
      ]
     },
     "metadata": {},
     "output_type": "display_data"
    }
   ],
   "source": [
    "diff_variance_eqn_3d = [diff(variance_eqn_3d, variable) for variable in splat_properties_3d]\n",
    "diff_variance_fcn_3d = lambdify(splat_properties_3d + eval_coords_3d, list(diff_variance_eqn_3d))\n",
    "#display(Matrix(diff_variance_eqn_3d))\n",
    "display(diff_variance_fcn_3d(*splat_properties_3d_example))"
   ]
  },
  {
   "cell_type": "code",
   "execution_count": 19,
   "metadata": {},
   "outputs": [
    {
     "data": {
      "text/plain": [
       "[0.2706705664732254, 0.0, 0, 0, 0.5413411329464508, 0.0, -0.0]"
      ]
     },
     "metadata": {},
     "output_type": "display_data"
    }
   ],
   "source": [
    "diff_gaussian_eqn_2d = [diff(gaussian(variance_eqn_2d), variable) for variable in splat_properties_2d]\n",
    "diff_gaussian_fcn_2d = lambdify(splat_properties_2d + eval_coords_2d, list(diff_gaussian_eqn_2d))\n",
    "#display(Matrix(diff_gaussian_eqn_2d))\n",
    "display(diff_gaussian_fcn_2d(*splat_properties_2d_example))"
   ]
  },
  {
   "cell_type": "code",
   "execution_count": 20,
   "metadata": {},
   "outputs": [
    {
     "data": {
      "text/plain": [
       "[0.2706705664732254,\n",
       " 0.0,\n",
       " 0.0,\n",
       " 0,\n",
       " 0,\n",
       " 0,\n",
       " 0.5413411329464508,\n",
       " 0.0,\n",
       " 0.0,\n",
       " -0.0,\n",
       " -0.0,\n",
       " 0.0,\n",
       " -0.0]"
      ]
     },
     "metadata": {},
     "output_type": "display_data"
    }
   ],
   "source": [
    "diff_gaussian_eqn_3d = [diff(gaussian(variance_eqn_3d), variable) for variable in splat_properties_3d]\n",
    "diff_gaussian_fcn_3d = lambdify(splat_properties_3d + eval_coords_3d, list(diff_gaussian_eqn_3d))\n",
    "#display(Matrix(diff_gaussian_eqn_3d))\n",
    "display(diff_gaussian_fcn_3d(*splat_properties_3d_example))"
   ]
  },
  {
   "cell_type": "markdown",
   "metadata": {},
   "source": [
    "### Velocity derivative equations\n",
    "\n",
    "Velocity is 1x2 or 1x3\n",
    "\n",
    "Variance derivates are 1xN\n",
    "\n",
    "$\n",
    "\\frac{\\partial \\boldsymbol{v(\\boldsymbol{x}, \\boldsymbol{x}_p)} }{\\partial x_i}\n",
    "= \n",
    "\\frac{\\partial \\boldsymbol{v_0(\\boldsymbol{x})}}{\\partial x_i}\n",
    "g(\\boldsymbol{x}, \\boldsymbol{x}_p)\n",
    "+\n",
    "\\boldsymbol{v_0(\\boldsymbol{x})}\n",
    "\\frac{\\partial g(\\boldsymbol{x}, \\boldsymbol{x}_p)}{\\partial x_i}\n",
    "$"
   ]
  },
  {
   "cell_type": "code",
   "execution_count": 21,
   "metadata": {},
   "outputs": [],
   "source": [
    "def velocity_derivatives(ndim):\n",
    "    if ndim == 2:\n",
    "        return Matrix(np.concatenate([np.zeros([2, 2]), np.diag([1, 1]), np.zeros([3, 2])]))\n",
    "    elif ndim == 3:\n",
    "        return Matrix(np.concatenate([np.zeros([3, 3]), np.diag([1, 1, 1]), np.zeros([7, 3])]))"
   ]
  },
  {
   "cell_type": "code",
   "execution_count": 22,
   "metadata": {},
   "outputs": [
    {
     "data": {
      "text/plain": [
       "array([[ 0.27067057,  0.        ],\n",
       "       [ 0.        ,  0.        ],\n",
       "       [ 0.13533528,  0.        ],\n",
       "       [ 0.        ,  0.13533528],\n",
       "       [ 0.54134113,  0.        ],\n",
       "       [ 0.        ,  0.        ],\n",
       "       [-0.        , -0.        ]])"
      ]
     },
     "metadata": {},
     "output_type": "display_data"
    }
   ],
   "source": [
    "diff_velocity_eqn_2d = velocity_derivatives(2)*gaussian(variance_eqn_2d) + Matrix(diff_gaussian_eqn_2d) * Matrix([u, v]).transpose()\n",
    "diff_velocity_fcn_2d = lambdify(splat_properties_2d + eval_coords_2d, diff_velocity_eqn_2d)\n",
    "#display(diff_velocity_eqn_2d)\n",
    "display(diff_velocity_fcn_2d(*splat_properties_2d_example))"
   ]
  },
  {
   "cell_type": "code",
   "execution_count": 23,
   "metadata": {},
   "outputs": [
    {
     "data": {
      "text/plain": [
       "array([[ 0.27067057,  0.        ,  0.        ],\n",
       "       [ 0.        ,  0.        ,  0.        ],\n",
       "       [ 0.        ,  0.        ,  0.        ],\n",
       "       [ 0.13533528,  0.        ,  0.        ],\n",
       "       [ 0.        ,  0.13533528,  0.        ],\n",
       "       [ 0.        ,  0.        ,  0.13533528],\n",
       "       [ 0.54134113,  0.        ,  0.        ],\n",
       "       [ 0.        ,  0.        ,  0.        ],\n",
       "       [ 0.        ,  0.        ,  0.        ],\n",
       "       [-0.        , -0.        , -0.        ],\n",
       "       [-0.        , -0.        , -0.        ],\n",
       "       [ 0.        ,  0.        ,  0.        ],\n",
       "       [-0.        , -0.        , -0.        ]])"
      ]
     },
     "metadata": {},
     "output_type": "display_data"
    }
   ],
   "source": [
    "diff_velocity_eqn_3d = velocity_derivatives(3)*gaussian(variance_eqn_3d) + Matrix(diff_gaussian_eqn_3d) * Matrix([u, v, w]).transpose()\n",
    "diff_velocity_fcn_3d = lambdify(splat_properties_3d + eval_coords_3d, diff_velocity_eqn_3d)\n",
    "#display(diff_velocity_eqn_3d)\n",
    "display(diff_velocity_fcn_3d(*splat_properties_3d_example))"
   ]
  },
  {
   "cell_type": "markdown",
   "metadata": {},
   "source": [
    "## Create Splatting Class"
   ]
  },
  {
   "cell_type": "code",
   "execution_count": 24,
   "metadata": {},
   "outputs": [],
   "source": [
    "class AeroSplat:\n",
    "    position = np.zeros(3)\n",
    "    velocity = np.zeros(3)\n",
    "    scale = np.ones(3)\n",
    "    orientation = np.array([1, 0, 0, 0])\n",
    "    \n",
    "    def __init__(self, **kwargs):\n",
    "        for key, value in kwargs.items():\n",
    "            setattr(self, key, np.array(value))\n",
    "    \n",
    "    def __repr__(self):\n",
    "        return f\"AeroSplat(position={self.position}, velocity={self.velocity}, scale={self.scale}, orientation={self.orientation})\"\n",
    "    \n",
    "    @property\n",
    "    def is2d(self):\n",
    "        return len(self.position) == 2\n",
    "    \n",
    "    @property\n",
    "    def properties(self):\n",
    "        return np.concatenate([self.position, self.velocity, self.scale, self.orientation])\n",
    "    \n",
    "    @property\n",
    "    def quaternion(self):\n",
    "        return quat(*self.orientation) if self.is2d else quat(self.orientation)\n",
    "    \n",
    "    @property\n",
    "    def rotation_matrix(self):\n",
    "        return rotation_fcn_2d(*self.orientation) if self.is2d else rotation_fcn_3d(*self.orientation)\n",
    "    \n",
    "    @property\n",
    "    def scale_matrix(self):\n",
    "        return np.diag(self.scale)\n",
    "    \n",
    "    def properties_at(self, position):\n",
    "        return list(self.properties) + list(position)\n",
    "    \n",
    "    def velocity_at(self, position):\n",
    "        return velocity_fcn_2d(*self.properties_at(position)) if self.is2d else velocity_fcn_3d(*self.properties_at(position))\n",
    "    \n",
    "    def differential_velocity_at(self, position):\n",
    "        return diff_velocity_fcn_2d(*self.properties_at(position)) if self.is2d else diff_velocity_fcn_3d(*self.properties_at(position))\n",
    "\n",
    "        "
   ]
  },
  {
   "cell_type": "code",
   "execution_count": 25,
   "metadata": {},
   "outputs": [
    {
     "data": {
      "text/plain": [
       "AeroSplat(position=[0 0], velocity=[1 0], scale=[1 1], orientation=[0])"
      ]
     },
     "metadata": {},
     "output_type": "display_data"
    },
    {
     "data": {
      "text/latex": [
       "$\\displaystyle 1 + 0 i + 0 j + 0 k$"
      ],
      "text/plain": [
       "1 + 0*i + 0*j + 0*k"
      ]
     },
     "metadata": {},
     "output_type": "display_data"
    },
    {
     "data": {
      "text/plain": [
       "array([[ 1., -0.],\n",
       "       [ 0.,  1.]])"
      ]
     },
     "metadata": {},
     "output_type": "display_data"
    },
    {
     "data": {
      "text/plain": [
       "[0.1353352832366127, 0.0]"
      ]
     },
     "metadata": {},
     "output_type": "display_data"
    },
    {
     "data": {
      "text/plain": [
       "array([[ 0.27067057,  0.        ],\n",
       "       [ 0.        ,  0.        ],\n",
       "       [ 0.13533528,  0.        ],\n",
       "       [ 0.        ,  0.13533528],\n",
       "       [ 0.54134113,  0.        ],\n",
       "       [ 0.        ,  0.        ],\n",
       "       [-0.        , -0.        ]])"
      ]
     },
     "metadata": {},
     "output_type": "display_data"
    }
   ],
   "source": [
    "a = AeroSplat(\n",
    "    position=[0, 0], \n",
    "    velocity=[1, 0],\n",
    "    scale=[1, 1],\n",
    "    orientation=[0]\n",
    ")\n",
    "display(a)\n",
    "display(a.quaternion)\n",
    "display(a.rotation_matrix)\n",
    "display(a.velocity_at(np.array([2, 0])))\n",
    "display(a.differential_velocity_at(np.array([2, 0])))"
   ]
  },
  {
   "cell_type": "markdown",
   "metadata": {},
   "source": [
    "## Create Boundary Condition Class"
   ]
  },
  {
   "cell_type": "code",
   "execution_count": 58,
   "metadata": {},
   "outputs": [],
   "source": [
    "class LineBoundary:\n",
    "    point0 = np.zeros(3)\n",
    "    point1 = np.zeros(3)\n",
    "    velocity = np.zeros(3)\n",
    "    \n",
    "    def __init__(self, point0=[0, 0, 0], point1=[0, 0, 0], velocity=[0, 0, 0]):\n",
    "        self.point0 = np.array(point0)\n",
    "        self.point1 = np.array(point1)\n",
    "        self.velocity = np.array(velocity)\n",
    "        \n",
    "    def __repr__(self):\n",
    "        return f\"LineBoundary(point0={self.point0}, point1={self.point1}, velocity={self.velocity})\"\n",
    "    \n",
    "    def point_at(self, weighted_distance):\n",
    "        return (1 - weighted_distance) * self.point0 + weighted_distance * self.point1\n",
    "    \n",
    "    def point_at_random(self):\n",
    "        return self.point_at(random.uniform(0, 1))"
   ]
  },
  {
   "cell_type": "code",
   "execution_count": 64,
   "metadata": {},
   "outputs": [
    {
     "name": "stdout",
     "output_type": "stream",
     "text": [
      "LineBoundary(point0=[ 0 -1], point1=[0 1], velocity=[10  0])\n",
      "[0.         0.11524982]\n"
     ]
    }
   ],
   "source": [
    "source_boundary = LineBoundary(point0=[0, -1], point1=[0, 1], velocity=[10, 0])\n",
    "plate_boundary = LineBoundary(point0=[1, -0.1], point1=[1, 0.1], velocity=[0, 0])\n",
    "print(source_boundary)\n",
    "print(source_boundary.point_at_random())"
   ]
  },
  {
   "cell_type": "markdown",
   "metadata": {},
   "source": [
    "## Create Problem Definition Class"
   ]
  },
  {
   "cell_type": "code",
   "execution_count": 84,
   "metadata": {},
   "outputs": [],
   "source": [
    "class AeroSplatProblem:\n",
    "    domain_x = np.zeros(2)\n",
    "    domain_y = np.zeros(2)\n",
    "    domain_z = np.zeros(2)\n",
    "    \n",
    "    splats = []\n",
    "    boundaries = []\n",
    "    \n",
    "    def __init__(self, domain_x=[0, 0], domain_y=[0, 0], domain_z=[0, 0], boundaries=[]):\n",
    "        self.domain_x = np.array(domain_x)\n",
    "        self.domain_y = np.array(domain_y)\n",
    "        self.domain_z = np.array(domain_z)\n",
    "        self.boundaries = boundaries\n",
    "\n",
    "    def __repr__(self):\n",
    "        repr_str = \"AeroSplatProblem(\"\n",
    "        repr_str += f\"\\n  domain_x={self.domain_x}\" if not all(self.domain_x == 0) else \"\"\n",
    "        repr_str += f\"\\n  domain_y={self.domain_y}\" if not all(self.domain_y == 0) else \"\"\n",
    "        repr_str += f\"\\n  domain_z={self.domain_z}\" if not all(self.domain_z == 0) else \"\"\n",
    "        repr_str += f\"\\n  boundaries={self.boundaries}\" if self.boundaries else \"\"\n",
    "        repr_str += \"\\n)\"\n",
    "        return repr_str\n",
    "    \n",
    "    @property\n",
    "    def ndims(self):\n",
    "        return 3 if self.domain_z[1] != self.domain_z[0] else 2\n",
    "    \n",
    "    def point_at_random(self):\n",
    "        x = random.uniform(self.domain_x[0], self.domain_x[1])\n",
    "        y = random.uniform(self.domain_y[0], self.domain_y[1])\n",
    "        z = random.uniform(self.domain_z[0], self.domain_z[1])\n",
    "        return np.array([x, y, z]) if self.ndims == 3 else np.array([x, y])\n",
    "    \n",
    "    def spawn_random_splats(self, quantity):\n",
    "        for _ in range(quantity):\n",
    "            new_splat = AeroSplat(\n",
    "                position=self.point_at_random(),\n",
    "                velocity=np.zeros(self.ndims),\n",
    "                scale=np.ones(self.ndims),\n",
    "                orientation=[0] if self.ndims == 2 else [1, 0, 0, 0]\n",
    "            )\n",
    "            self.splats.append(new_splat)"
   ]
  },
  {
   "cell_type": "code",
   "execution_count": 86,
   "metadata": {},
   "outputs": [
    {
     "name": "stdout",
     "output_type": "stream",
     "text": [
      "AeroSplatProblem(\n",
      "  domain_x=[0 2]\n",
      "  domain_y=[-1  1]\n",
      "  boundaries=[LineBoundary(point0=[ 0 -1], point1=[0 1], velocity=[10  0]), LineBoundary(point0=[ 1.  -0.1], point1=[1.  0.1], velocity=[0 0])]\n",
      ")\n",
      "[AeroSplat(position=[ 1.41599715 -0.06049709], velocity=[0. 0.], scale=[1. 1.], orientation=[0]), AeroSplat(position=[1.40883507 0.86843337], velocity=[0. 0.], scale=[1. 1.], orientation=[0]), AeroSplat(position=[0.74095902 0.54683919], velocity=[0. 0.], scale=[1. 1.], orientation=[0]), AeroSplat(position=[0.29228835 0.36585815], velocity=[0. 0.], scale=[1. 1.], orientation=[0]), AeroSplat(position=[ 1.94656848 -0.37419421], velocity=[0. 0.], scale=[1. 1.], orientation=[0]), AeroSplat(position=[1.90472497 0.62213976], velocity=[0. 0.], scale=[1. 1.], orientation=[0]), AeroSplat(position=[1.56522764 0.79027259], velocity=[0. 0.], scale=[1. 1.], orientation=[0]), AeroSplat(position=[1.79247179 0.2268116 ], velocity=[0. 0.], scale=[1. 1.], orientation=[0]), AeroSplat(position=[ 1.57041092 -0.58426423], velocity=[0. 0.], scale=[1. 1.], orientation=[0]), AeroSplat(position=[1.05196628 0.09261993], velocity=[0. 0.], scale=[1. 1.], orientation=[0]), AeroSplat(position=[0.98837123 0.82592513], velocity=[0. 0.], scale=[1. 1.], orientation=[0]), AeroSplat(position=[0.2128904 0.1642339], velocity=[0. 0.], scale=[1. 1.], orientation=[0]), AeroSplat(position=[0.49833053 0.89046293], velocity=[0. 0.], scale=[1. 1.], orientation=[0]), AeroSplat(position=[0.42287366 0.24684736], velocity=[0. 0.], scale=[1. 1.], orientation=[0]), AeroSplat(position=[ 0.66822164 -0.73544787], velocity=[0. 0.], scale=[1. 1.], orientation=[0]), AeroSplat(position=[0.16286623 0.89283733], velocity=[0. 0.], scale=[1. 1.], orientation=[0]), AeroSplat(position=[ 0.81486734 -0.02012633], velocity=[0. 0.], scale=[1. 1.], orientation=[0]), AeroSplat(position=[1.48346683 0.31848015], velocity=[0. 0.], scale=[1. 1.], orientation=[0]), AeroSplat(position=[ 0.15383289 -0.13269162], velocity=[0. 0.], scale=[1. 1.], orientation=[0]), AeroSplat(position=[1.8000929  0.62260037], velocity=[0. 0.], scale=[1. 1.], orientation=[0]), AeroSplat(position=[ 0.51965168 -0.36128831], velocity=[0. 0.], scale=[1. 1.], orientation=[0]), AeroSplat(position=[1.20294405 0.44648793], velocity=[0. 0.], scale=[1. 1.], orientation=[0])]\n"
     ]
    }
   ],
   "source": [
    "problem = AeroSplatProblem(\n",
    "    domain_x=[0, 2], \n",
    "    domain_y=[-1, 1],\n",
    "    boundaries=[source_boundary, plate_boundary]\n",
    ")\n",
    "print(problem)\n",
    "problem.spawn_random_splats(20)\n",
    "for spla\n",
    "print(problem.splats)"
   ]
  },
  {
   "cell_type": "code",
   "execution_count": null,
   "metadata": {},
   "outputs": [],
   "source": []
  }
 ],
 "metadata": {
  "kernelspec": {
   "display_name": "Python 3 (ipykernel)",
   "language": "python",
   "name": "python3"
  },
  "language_info": {
   "codemirror_mode": {
    "name": "ipython",
    "version": 3
   },
   "file_extension": ".py",
   "mimetype": "text/x-python",
   "name": "python",
   "nbconvert_exporter": "python",
   "pygments_lexer": "ipython3",
   "version": "3.7.13"
  }
 },
 "nbformat": 4,
 "nbformat_minor": 4
}
