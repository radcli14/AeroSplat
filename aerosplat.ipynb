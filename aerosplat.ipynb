{
 "cells": [
  {
   "cell_type": "markdown",
   "metadata": {},
   "source": [
    "# Aerodynamic Splatting"
   ]
  },
  {
   "cell_type": "code",
   "execution_count": null,
   "metadata": {},
   "outputs": [],
   "source": [
    "import numpy as np\n",
    "from sympy import symbols, diff, Quaternion, exp, Matrix, lambdify, sin, cos, simplify\n",
    "from sympy.physics.mechanics import *\n",
    "from scipy.spatial.transform import Rotation\n",
    "from IPython.display import display\n",
    "import matplotlib.pyplot as plt"
   ]
  },
  {
   "cell_type": "markdown",
   "metadata": {},
   "source": [
    "## Create Symbolic Functions"
   ]
  },
  {
   "cell_type": "markdown",
   "metadata": {},
   "source": [
    "### Properties of the splat"
   ]
  },
  {
   "cell_type": "code",
   "execution_count": null,
   "metadata": {},
   "outputs": [],
   "source": [
    "x, y, z, u, v, w, sx, sy, sz, qw, qx, qy, qz, θ = symbols(\"x, y, z, u, v, w, s_x, s_y, s_z, q_w, q_x, q_y, q_z, θ\")\n",
    "position = np.array([x, y, z])\n",
    "velocity = np.array([u, v, w])\n",
    "scale = np.array([sx, sy, sz])\n",
    "orientation_2d = θ\n",
    "orientation_3d = np.array([qw, qx, qy, qz])\n",
    "splat_properties_2d = [x, y, u, v, sx, sy, θ]\n",
    "splat_properties_2d_example = [0, 0] + [1, 0] + [1, 1] + [0] + [2, 0]\n",
    "splat_properties_3d = [x, y, z, u, v, w, sx, sy, sz, qw, qx, qy, qz]\n",
    "splat_properties_3d_example = [0, 0, 0] + [1, 0, 0] + [1, 1, 1] + [1, 0, 0, 0] + [2, 0, 0] "
   ]
  },
  {
   "cell_type": "markdown",
   "metadata": {},
   "source": [
    "### Position for evaluation of the splat equations"
   ]
  },
  {
   "cell_type": "code",
   "execution_count": null,
   "metadata": {},
   "outputs": [],
   "source": [
    "xp, yp, zp = symbols(\"x_p, y_p, z_p\")\n",
    "eval_coords_2d = [xp, yp]\n",
    "eval_coords_3d = [xp, yp, zp]\n",
    "eval_at_position = np.array(eval_coords_3d)"
   ]
  },
  {
   "cell_type": "markdown",
   "metadata": {},
   "source": [
    "## Equation for quaternion\n",
    "We provide two options for obtaining the quaternon.\n",
    "In the case where a `numpy` array with four quaternion components are provided, we will obtain using the standard syntax `Quaternion(qw, qx, qy, qz)`.\n",
    "In the case where a single component is provided, we will assume that this is a planar model with an angle evaluated about the $z$-axis, and obtain with the `Quaternion.from_axis_angle` class method.\n",
    "We also will create the `idx_dimension` variable which shrinks subsequent matrices and vectors to use only the first two ($x$ and $y$) components."
   ]
  },
  {
   "cell_type": "code",
   "execution_count": null,
   "metadata": {},
   "outputs": [],
   "source": [
    "quat = lambda q: Quaternion(*q) if isinstance(q, np.ndarray) else Quaternion.from_axis_angle([0, 0, 1], q)\n",
    "idx_dimension = lambda orientation: 3 if isinstance(orientation, np.ndarray) else 2"
   ]
  },
  {
   "cell_type": "code",
   "execution_count": null,
   "metadata": {},
   "outputs": [],
   "source": [
    "quaternion_2d = quat(orientation_2d)\n",
    "display(quaternion_2d)"
   ]
  },
  {
   "cell_type": "code",
   "execution_count": null,
   "metadata": {},
   "outputs": [],
   "source": [
    "quaternion_3d = quat(orientation_3d)\n",
    "display(quaternion_3d)"
   ]
  },
  {
   "cell_type": "markdown",
   "metadata": {},
   "source": [
    "## Equation for gaussian"
   ]
  },
  {
   "cell_type": "markdown",
   "metadata": {},
   "source": [
    "The Gaussian equation that is created below uses the variance term _not-squared_, while in the plot I square this term.\n",
    "There is reason for this; the variance that I will use below is going to be of the form\n",
    "\n",
    "$\\texttt{variance} = \\sum_{i=1}^3 \\left( \\frac{x_i - \\bar{x}_i}{s_i} \\right)^2$\n",
    "\n",
    "where $x_i$ is a position coordinate for where we are measuring, $\\bar{x}_i$ is the position coordinate for the center of the Gaussian, and $s_i$ is a scale coefficient representing one standard deviation in the direction of that coordinate.\n",
    "Traditionally, we would evaluate the Gaussian at some count of standard deviations, which would derive from the square-root of the above expression.\n",
    "To avoid taking a square-root, just to subsequently square the term again, we create the Gaussian as a function of the variance directly.\n",
    "However, the plot below shows an evaluation of the Gaussian with respect to standard deviations."
   ]
  },
  {
   "cell_type": "code",
   "execution_count": null,
   "metadata": {},
   "outputs": [],
   "source": [
    "gaussian = lambda variance: exp(-0.5 * variance)\n",
    "stdev = np.linspace(-3, 3, 121);\n",
    "plt.plot(stdev, np.exp(-0.5 * stdev**2));\n",
    "plt.xlabel(\"Standard Deviations\");\n",
    "plt.ylabel(\"Gaussian\");"
   ]
  },
  {
   "cell_type": "markdown",
   "metadata": {},
   "source": [
    "Here we create a function that obtains the rotation matrix from the quaternion, along with some simplification steps.\n",
    "First, we substitute a value of 1 for the quaternion norm, as we will ensure that it is always a proper unit quaternion.\n",
    "Second, we call the standard `simplify()` function."
   ]
  },
  {
   "cell_type": "code",
   "execution_count": null,
   "metadata": {},
   "outputs": [],
   "source": [
    "def rotation_matrix_eqn(orientation):\n",
    "    quaternion = quat(orientation)\n",
    "    rotation_matrix = quaternion.to_rotation_matrix().subs(quaternion.norm(), 1)\n",
    "    rotation_matrix.simplify()\n",
    "    idx = idx_dimension(orientation)\n",
    "    return rotation_matrix[:idx, :idx]"
   ]
  },
  {
   "cell_type": "code",
   "execution_count": null,
   "metadata": {},
   "outputs": [],
   "source": [
    "rotation_eqn_2d = rotation_matrix_eqn(orientation_2d)\n",
    "rotation_fcn_2d = lambdify(θ, rotation_eqn_2d)\n",
    "display(rotation_eqn_2d)\n",
    "display(rotation_fcn_2d(0.5))"
   ]
  },
  {
   "cell_type": "code",
   "execution_count": null,
   "metadata": {},
   "outputs": [],
   "source": [
    "rotation_eqn_3d = rotation_matrix_eqn(orientation_3d)\n",
    "rotation_fcn_3d = lambdify(orientation_3d, rotation_eqn_3d)\n",
    "display(rotation_eqn_3d)\n",
    "display(rotation_fcn_3d(0.707, 0.707, 0, 0))"
   ]
  },
  {
   "cell_type": "code",
   "execution_count": null,
   "metadata": {},
   "outputs": [],
   "source": [
    "def variance_eqn(orientation):\n",
    "    rotation_matrix = rotation_matrix_eqn(orientation)\n",
    "    idx = idx_dimension(orientation)\n",
    "    dx = rotation_matrix[:idx, :idx] @ (eval_at_position[:idx] - position[:idx])\n",
    "    s = dx / scale[:idx]\n",
    "    return np.sum(s**2)"
   ]
  },
  {
   "cell_type": "code",
   "execution_count": null,
   "metadata": {},
   "outputs": [],
   "source": [
    "variance_eqn_2d = variance_eqn(orientation_2d)\n",
    "variance_fcn_2d = lambdify(splat_properties_2d + eval_coords_2d, variance_eqn_2d)\n",
    "display(variance_eqn_2d)\n",
    "display(variance_fcn_2d(*splat_properties_2d_example))"
   ]
  },
  {
   "cell_type": "code",
   "execution_count": null,
   "metadata": {},
   "outputs": [],
   "source": [
    "variance_eqn_3d = variance_eqn(orientation_3d)\n",
    "variance_fcn_3d = lambdify(splat_properties_3d + eval_coords_3d, variance_eqn_3d)\n",
    "display(variance_eqn_3d)\n",
    "display(variance_fcn_3d(*splat_properties_3d_example))"
   ]
  },
  {
   "cell_type": "markdown",
   "metadata": {},
   "source": [
    "Velocity away from the center of the Gaussian takes the form\n",
    "\n",
    "$\\boldsymbol{x} = (x, y, z, u, v, w, s_x, s_y, s_z, q_w, q_x, q_y, q_z)$\n",
    "\n",
    "$\\boldsymbol{x}_p = (x_p, y_p, z_p)$\n",
    "\n",
    "$\\boldsymbol{v(\\boldsymbol{x}, \\boldsymbol{x}_p)} = \\boldsymbol{v_0(\\boldsymbol{x})} g(\\boldsymbol{x}, \\boldsymbol{x}_p)$"
   ]
  },
  {
   "cell_type": "code",
   "execution_count": null,
   "metadata": {},
   "outputs": [],
   "source": [
    "def velocity_eqn(orientation):\n",
    "    idx = idx_dimension(orientation)\n",
    "    variance = variance_eqn(orientation)\n",
    "    return velocity[:idx] * gaussian(variance)"
   ]
  },
  {
   "cell_type": "code",
   "execution_count": null,
   "metadata": {},
   "outputs": [],
   "source": [
    "velocity_eqn_2d = velocity_eqn(orientation_2d)\n",
    "velocity_fcn_2d = lambdify(splat_properties_2d + eval_coords_2d, list(velocity_eqn_2d))\n",
    "display(Matrix(velocity_eqn_2d))\n",
    "display(velocity_fcn_2d(*splat_properties_2d_example))"
   ]
  },
  {
   "cell_type": "code",
   "execution_count": null,
   "metadata": {},
   "outputs": [],
   "source": [
    "velocity_eqn_3d = velocity_eqn(orientation_3d)\n",
    "velocity_fcn_3d = lambdify(splat_properties_3d + eval_coords_3d, list(velocity_eqn_3d))\n",
    "#display(Matrix(velocity_eqn_3d))\n",
    "display(velocity_fcn_3d(*splat_properties_3d_example))"
   ]
  },
  {
   "cell_type": "code",
   "execution_count": null,
   "metadata": {},
   "outputs": [],
   "source": [
    "diff_variance_eqn_2d = [diff(variance_eqn_2d, variable) for variable in splat_properties_2d]\n",
    "diff_variance_fcn_2d = lambdify(splat_properties_2d + eval_coords_2d, list(diff_variance_eqn_2d))\n",
    "#display(Matrix(diff_variance_eqn_2d))\n",
    "display(diff_variance_fcn_2d(*splat_properties_2d_example))"
   ]
  },
  {
   "cell_type": "code",
   "execution_count": null,
   "metadata": {},
   "outputs": [],
   "source": [
    "diff_variance_eqn_3d = [diff(variance_eqn_3d, variable) for variable in splat_properties_3d]\n",
    "diff_variance_fcn_3d = lambdify(splat_properties_3d + eval_coords_3d, list(diff_variance_eqn_3d))\n",
    "#display(Matrix(diff_variance_eqn_3d))\n",
    "display(diff_variance_fcn_3d(*splat_properties_3d_example))"
   ]
  },
  {
   "cell_type": "code",
   "execution_count": null,
   "metadata": {},
   "outputs": [],
   "source": [
    "#diff_gaussian_eqn_2d = -0.5 * diff_variance_eqn_2d * gaussian(variance_eqn_2d)\n",
    "#display(diff_gaussian_eqn_2d)"
   ]
  },
  {
   "cell_type": "markdown",
   "metadata": {},
   "source": [
    "### Velocity derivative equations\n",
    "\n",
    "Velocity is 1x2 or 1x3\n",
    "\n",
    "Variance derivates are 1xN\n",
    "\n",
    "$\n",
    "\\frac{\\partial \\boldsymbol{v(\\boldsymbol{x}, \\boldsymbol{x}_p)} }{\\partial x_i}\n",
    "= \n",
    "\\frac{\\partial \\boldsymbol{v_0(\\boldsymbol{x})}}{\\partial x_i}\n",
    "g(\\boldsymbol{x}, \\boldsymbol{x}_p)\n",
    "+\n",
    "\\boldsymbol{v_0(\\boldsymbol{x})}\n",
    "\\frac{\\partial g(\\boldsymbol{x}, \\boldsymbol{x}_p)}{\\partial x_i}\n",
    "$"
   ]
  },
  {
   "cell_type": "code",
   "execution_count": null,
   "metadata": {},
   "outputs": [],
   "source": [
    "def velocity_derivatives(ndim):\n",
    "    if ndim == 2:\n",
    "        return Matrix(np.concatenate([np.zeros([2, 2]), np.diag([1, 1]), np.zeros([3, 2])]))\n",
    "    elif ndim == 3:\n",
    "        return Matrix(np.concatenate([np.zeros([3, 3]), np.diag([1, 1, 1]), np.zeros([7, 3])]))\n",
    "    \n",
    "# TODO: add the second part\n",
    "display(velocity_derivatives(2)*gaussian(variance_eqn_2d))"
   ]
  },
  {
   "cell_type": "markdown",
   "metadata": {},
   "source": [
    "## Create Splatting Class"
   ]
  },
  {
   "cell_type": "code",
   "execution_count": null,
   "metadata": {},
   "outputs": [],
   "source": [
    "class AeroSplat:\n",
    "    position = np.zeros(2)\n",
    "    velocity = np.zeros(2)\n",
    "    scale = np.ones(2)\n",
    "    orientation = 0 # np.array([0, 0, 0, 1])\n",
    "    \n",
    "    def __init__(self, **kwargs):\n",
    "        for key, value in kwargs.items():\n",
    "            setattr(self, key, value)\n",
    "    \n",
    "    def __repr__(self):\n",
    "        return f\"AeroSplat(position={self.position}, velocity={self.velocity}, scale={self.scale}, orientation={self.orientation})\"\n",
    "    \n",
    "    @property\n",
    "    def is_symbolic(self):\n",
    "        # TODO: detect if the states are symbolic or numpy/numeric\n",
    "        return\n",
    "    \n",
    "    @property\n",
    "    def quaternion(self):\n",
    "        return quat(self.orientation)\n",
    "    \n",
    "    @property\n",
    "    def rotation_matrix(self):\n",
    "        R = self.quaternion.to_rotation_matrix()\n",
    "        R.simplify()\n",
    "        return R[:2, :2] if len(self.position) == 2 else R\n",
    "    \n",
    "    @property\n",
    "    def scale_matrix(self):\n",
    "        return np.diag(self.scale)\n",
    "    \n",
    "    def velocity_at(self, position):\n",
    "        dx = self.rotation_matrix @ (position - self.position)\n",
    "        s = dx / self.scale\n",
    "        variance = np.sum(s**2)\n",
    "        try:\n",
    "            return self.velocity * np.exp(-0.5 * variance)\n",
    "        except:\n",
    "            return self.velocity * exp(-0.5 * variance)\n",
    "    \n",
    "    def differential_velocity_at(self, position):\n",
    "        return np.zeros(3)\n",
    "        "
   ]
  },
  {
   "cell_type": "code",
   "execution_count": null,
   "metadata": {},
   "outputs": [],
   "source": [
    "a = AeroSplat(\n",
    "    position=np.array([x, y, z]), \n",
    "    velocity=np.array([u, v, w]),\n",
    "    scale=np.array([sx, sy, sz]),\n",
    "    orientation=np.array([qx, qy, qz, qw])\n",
    ")\n",
    "display(a)\n",
    "display(a.quaternion)\n",
    "display(a.rotation_matrix)\n",
    "display(Matrix(a.velocity_at(np.array([xp, yp, zp]))))\n",
    "#display(Matrix(a.velocity_at(np.ones(3))))"
   ]
  },
  {
   "cell_type": "code",
   "execution_count": null,
   "metadata": {},
   "outputs": [],
   "source": [
    "class LineBoundary:\n",
    "    point0 = np.zeros(3)\n",
    "    point1 = np.zeros(3)\n",
    "    \n",
    "    def __init__(self, point0=np.zeros(3), point1=np.zeros(3)):\n",
    "        self.point0 = point0\n",
    "        self.point1 = point1\n",
    "        \n",
    "    def __repr__(self):\n",
    "        return f\"LineBoundary(point0={self.point0}, point1={self.point1})\""
   ]
  },
  {
   "cell_type": "code",
   "execution_count": null,
   "metadata": {},
   "outputs": [],
   "source": [
    "line = LineBoundary(point1=np.ones(3))\n",
    "\n",
    "print(line)"
   ]
  }
 ],
 "metadata": {
  "kernelspec": {
   "display_name": "Python 3 (ipykernel)",
   "language": "python",
   "name": "python3"
  },
  "language_info": {
   "codemirror_mode": {
    "name": "ipython",
    "version": 3
   },
   "file_extension": ".py",
   "mimetype": "text/x-python",
   "name": "python",
   "nbconvert_exporter": "python",
   "pygments_lexer": "ipython3",
   "version": "3.7.13"
  }
 },
 "nbformat": 4,
 "nbformat_minor": 4
}
