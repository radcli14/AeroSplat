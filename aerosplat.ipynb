{
 "cells": [
  {
   "cell_type": "markdown",
   "metadata": {},
   "source": [
    "# Aerodynamic Splatting"
   ]
  },
  {
   "cell_type": "code",
   "execution_count": 1,
   "metadata": {},
   "outputs": [
    {
     "name": "stdout",
     "output_type": "stream",
     "text": [
      "aerosplat imported gaussian\n",
      "<function <lambda> at 0x7f9ff0527b00>\n"
     ]
    }
   ],
   "source": [
    "import numpy as np\n",
    "from sympy import symbols, diff, Quaternion, exp, Matrix, lambdify, sin, cos, simplify\n",
    "#from sympy.physics.mechanics import *\n",
    "import random\n",
    "from IPython.display import display\n",
    "import matplotlib.pyplot as plt\n",
    "from aerosplat import *"
   ]
  },
  {
   "cell_type": "markdown",
   "metadata": {},
   "source": [
    "## Symbolic Math"
   ]
  },
  {
   "cell_type": "markdown",
   "metadata": {},
   "source": [
    "## Equation for quaternion\n",
    "We provide two options for obtaining the quaternon.\n",
    "In the case where a `numpy` array with four quaternion components are provided, we will obtain using the standard syntax `Quaternion(qw, qx, qy, qz)`.\n",
    "In the case where a single component is provided, we will assume that this is a planar model with an angle evaluated about the $z$-axis, and obtain with the `Quaternion.from_axis_angle` class method.\n",
    "We also will create the `idx_dimension` variable which shrinks subsequent matrices and vectors to use only the first two ($x$ and $y$) components."
   ]
  },
  {
   "cell_type": "code",
   "execution_count": 2,
   "metadata": {},
   "outputs": [
    {
     "data": {
      "text/latex": [
       "$\\displaystyle \\cos{\\left(\\frac{θ}{2} \\right)} + 0 i + 0 j + \\sin{\\left(\\frac{θ}{2} \\right)} k$"
      ],
      "text/plain": [
       "cos(θ/2) + 0*i + 0*j + sin(θ/2)*k"
      ]
     },
     "metadata": {},
     "output_type": "display_data"
    }
   ],
   "source": [
    "display(quaternion_2d)"
   ]
  },
  {
   "cell_type": "code",
   "execution_count": 3,
   "metadata": {},
   "outputs": [
    {
     "data": {
      "text/latex": [
       "$\\displaystyle q_{w} + q_{x} i + q_{y} j + q_{z} k$"
      ],
      "text/plain": [
       "q_w + q_x*i + q_y*j + q_z*k"
      ]
     },
     "metadata": {},
     "output_type": "display_data"
    }
   ],
   "source": [
    "display(quaternion_3d)"
   ]
  },
  {
   "cell_type": "markdown",
   "metadata": {},
   "source": [
    "## Equation for gaussian"
   ]
  },
  {
   "cell_type": "markdown",
   "metadata": {},
   "source": [
    "The Gaussian equation that is created below uses the variance term _not-squared_, while in the plot I square this term.\n",
    "There is reason for this; the variance that I will use below is going to be of the form\n",
    "\n",
    "$\\texttt{variance} = \\sum_{i=1}^3 \\left( \\frac{x_i - \\bar{x}_i}{s_i} \\right)^2$\n",
    "\n",
    "where $x_i$ is a position coordinate for where we are measuring, $\\bar{x}_i$ is the position coordinate for the center of the Gaussian, and $s_i$ is a scale coefficient representing one standard deviation in the direction of that coordinate.\n",
    "Traditionally, we would evaluate the Gaussian at some count of standard deviations, which would derive from the square-root of the above expression.\n",
    "To avoid taking a square-root, just to subsequently square the term again, we create the Gaussian as a function of the variance directly.\n",
    "However, the plot below shows an evaluation of the Gaussian with respect to standard deviations."
   ]
  },
  {
   "cell_type": "code",
   "execution_count": 4,
   "metadata": {},
   "outputs": [
    {
     "data": {
      "image/png": "[encoded data removed]",
      "text/plain": [
       "<Figure size 432x288 with 1 Axes>"
      ]
     },
     "metadata": {
      "needs_background": "light"
     },
     "output_type": "display_data"
    }
   ],
   "source": [
    "stdev = np.linspace(-3, 3, 121);\n",
    "plt.plot(stdev, np.exp(-0.5 * stdev**2));\n",
    "plt.xlabel(\"Standard Deviations\");\n",
    "plt.ylabel(\"Gaussian\");"
   ]
  },
  {
   "cell_type": "markdown",
   "metadata": {},
   "source": [
    "Here we create a function that obtains the rotation matrix from the quaternion, along with some simplification steps.\n",
    "First, we substitute a value of 1 for the quaternion norm, as we will ensure that it is always a proper unit quaternion.\n",
    "Second, we call the standard `simplify()` function."
   ]
  },
  {
   "cell_type": "code",
   "execution_count": 5,
   "metadata": {},
   "outputs": [
    {
     "data": {
      "text/latex": [
       "$\\displaystyle \\left[\\begin{matrix}\\cos{\\left(θ \\right)} & - \\sin{\\left(θ \\right)}\\\\\\sin{\\left(θ \\right)} & \\cos{\\left(θ \\right)}\\end{matrix}\\right]$"
      ],
      "text/plain": [
       "Matrix([\n",
       "[cos(θ), -sin(θ)],\n",
       "[sin(θ),  cos(θ)]])"
      ]
     },
     "metadata": {},
     "output_type": "display_data"
    }
   ],
   "source": [
    "display(rotation_eqn_2d)"
   ]
  },
  {
   "cell_type": "code",
   "execution_count": 6,
   "metadata": {},
   "outputs": [
    {
     "data": {
      "text/latex": [
       "$\\displaystyle \\left[\\begin{matrix}- 2 q_{y}^{2} - 2 q_{z}^{2} + 1 & - 2 q_{w} q_{z} + 2 q_{x} q_{y} & 2 q_{w} q_{y} + 2 q_{x} q_{z}\\\\2 q_{w} q_{z} + 2 q_{x} q_{y} & - 2 q_{x}^{2} - 2 q_{z}^{2} + 1 & - 2 q_{w} q_{x} + 2 q_{y} q_{z}\\\\- 2 q_{w} q_{y} + 2 q_{x} q_{z} & 2 q_{w} q_{x} + 2 q_{y} q_{z} & - 2 q_{x}^{2} - 2 q_{y}^{2} + 1\\end{matrix}\\right]$"
      ],
      "text/plain": [
       "Matrix([\n",
       "[-2*q_y**2 - 2*q_z**2 + 1,   -2*q_w*q_z + 2*q_x*q_y,    2*q_w*q_y + 2*q_x*q_z],\n",
       "[   2*q_w*q_z + 2*q_x*q_y, -2*q_x**2 - 2*q_z**2 + 1,   -2*q_w*q_x + 2*q_y*q_z],\n",
       "[  -2*q_w*q_y + 2*q_x*q_z,    2*q_w*q_x + 2*q_y*q_z, -2*q_x**2 - 2*q_y**2 + 1]])"
      ]
     },
     "metadata": {},
     "output_type": "display_data"
    }
   ],
   "source": [
    "display(rotation_eqn_3d)"
   ]
  },
  {
   "cell_type": "markdown",
   "metadata": {},
   "source": [
    "Velocity away from the center of the Gaussian takes the form\n",
    "\n",
    "$\\boldsymbol{x} = (x, y, z, u, v, w, s_x, s_y, s_z, q_w, q_x, q_y, q_z)$\n",
    "\n",
    "$\\boldsymbol{x}_p = (x_p, y_p, z_p)$\n",
    "\n",
    "$\\boldsymbol{v(\\boldsymbol{x}, \\boldsymbol{x}_p)} = \\boldsymbol{v_0(\\boldsymbol{x})} g(\\boldsymbol{x}, \\boldsymbol{x}_p)$"
   ]
  },
  {
   "cell_type": "code",
   "execution_count": 7,
   "metadata": {},
   "outputs": [
    {
     "data": {
      "text/latex": [
       "$\\displaystyle \\left[\\begin{matrix}u e^{- \\frac{0.5 \\left(\\left(- x + x_{p}\\right) \\sin{\\left(θ \\right)} + \\left(- y + y_{p}\\right) \\cos{\\left(θ \\right)}\\right)^{2}}{s_{y}^{2}} - \\frac{0.5 \\left(\\left(- x + x_{p}\\right) \\cos{\\left(θ \\right)} - \\left(- y + y_{p}\\right) \\sin{\\left(θ \\right)}\\right)^{2}}{s_{x}^{2}}}\\\\v e^{- \\frac{0.5 \\left(\\left(- x + x_{p}\\right) \\sin{\\left(θ \\right)} + \\left(- y + y_{p}\\right) \\cos{\\left(θ \\right)}\\right)^{2}}{s_{y}^{2}} - \\frac{0.5 \\left(\\left(- x + x_{p}\\right) \\cos{\\left(θ \\right)} - \\left(- y + y_{p}\\right) \\sin{\\left(θ \\right)}\\right)^{2}}{s_{x}^{2}}}\\end{matrix}\\right]$"
      ],
      "text/plain": [
       "Matrix([\n",
       "[u*exp(-0.5*((-x + x_p)*sin(θ) + (-y + y_p)*cos(θ))**2/s_y**2 - 0.5*((-x + x_p)*cos(θ) - (-y + y_p)*sin(θ))**2/s_x**2)],\n",
       "[v*exp(-0.5*((-x + x_p)*sin(θ) + (-y + y_p)*cos(θ))**2/s_y**2 - 0.5*((-x + x_p)*cos(θ) - (-y + y_p)*sin(θ))**2/s_x**2)]])"
      ]
     },
     "metadata": {},
     "output_type": "display_data"
    }
   ],
   "source": [
    "display(Matrix(velocity_eqn_2d))"
   ]
  },
  {
   "cell_type": "markdown",
   "metadata": {},
   "source": [
    "We see the variance contained in the exponent"
   ]
  },
  {
   "cell_type": "code",
   "execution_count": 8,
   "metadata": {},
   "outputs": [
    {
     "data": {
      "text/latex": [
       "$\\displaystyle \\frac{\\left(\\left(- x + x_{p}\\right) \\sin{\\left(θ \\right)} + \\left(- y + y_{p}\\right) \\cos{\\left(θ \\right)}\\right)^{2}}{s_{y}^{2}} + \\frac{\\left(\\left(- x + x_{p}\\right) \\cos{\\left(θ \\right)} - \\left(- y + y_{p}\\right) \\sin{\\left(θ \\right)}\\right)^{2}}{s_{x}^{2}}$"
      ],
      "text/plain": [
       "((-x + x_p)*sin(θ) + (-y + y_p)*cos(θ))**2/s_y**2 + ((-x + x_p)*cos(θ) - (-y + y_p)*sin(θ))**2/s_x**2"
      ]
     },
     "metadata": {},
     "output_type": "display_data"
    }
   ],
   "source": [
    "display(variance_eqn_2d)"
   ]
  },
  {
   "cell_type": "markdown",
   "metadata": {},
   "source": [
    "### Velocity derivative equations\n",
    "\n",
    "Velocity is 1x2 or 1x3\n",
    "\n",
    "Variance derivates are 1xN\n",
    "\n",
    "$$\n",
    "\\frac{\\partial \\boldsymbol{v(\\boldsymbol{x}, \\boldsymbol{x}_p)} }{\\partial x_i}\n",
    "= \n",
    "\\frac{\\partial \\boldsymbol{v_0(\\boldsymbol{x})}}{\\partial x_i}\n",
    "g(\\boldsymbol{x}, \\boldsymbol{x}_p)\n",
    "+\n",
    "\\boldsymbol{v_0(\\boldsymbol{x})}\n",
    "\\frac{\\partial g(\\boldsymbol{x}, \\boldsymbol{x}_p)}{\\partial x_i}\n",
    "$$"
   ]
  },
  {
   "cell_type": "markdown",
   "metadata": {},
   "source": [
    "## Create Splatting Class"
   ]
  },
  {
   "cell_type": "code",
   "execution_count": 9,
   "metadata": {},
   "outputs": [],
   "source": [
    "\"\"\"class AeroSplat:\n",
    "    position = np.zeros(3)\n",
    "    velocity = np.zeros(3)\n",
    "    scale = np.ones(3)\n",
    "    orientation = np.array([1, 0, 0, 0])\n",
    "    \n",
    "    def __init__(self, **kwargs):\n",
    "        for key, value in kwargs.items():\n",
    "            setattr(self, key, np.array(value))\n",
    "    \n",
    "    def __repr__(self):\n",
    "        return f\"AeroSplat(position={self.position}, velocity={self.velocity}, scale={self.scale}, orientation={self.orientation})\"\n",
    "    \n",
    "    @property\n",
    "    def is2d(self):\n",
    "        return len(self.position) == 2\n",
    "    \n",
    "    @property\n",
    "    def properties(self):\n",
    "        return np.concatenate([self.position, self.velocity, self.scale, self.orientation])\n",
    "    \n",
    "    @property\n",
    "    def quaternion(self):\n",
    "        return quat(*self.orientation) if self.is2d else quat(self.orientation)\n",
    "    \n",
    "    @property\n",
    "    def rotation_matrix(self):\n",
    "        return rotation_fcn_2d(*self.orientation) if self.is2d else rotation_fcn_3d(*self.orientation)\n",
    "    \n",
    "    @property\n",
    "    def scale_matrix(self):\n",
    "        return np.diag(self.scale)\n",
    "    \n",
    "    def properties_at(self, position):\n",
    "        return list(self.properties) + list(position)\n",
    "\n",
    "    def variance_at(self, position):\n",
    "        f = variance_fcn_2d if self.is2d else variance_fcn_3d\n",
    "        return f(*self.properties_at(position))\n",
    "\n",
    "    def variance_gradient_at(self, position):\n",
    "        f = variance_gradient_fcn_2d if self.is2d else variance_gradient_fcn_3d\n",
    "        gradient = f(*self.properties_at(position))\n",
    "        return np.array(gradient)\n",
    "\n",
    "    def gaussian_at(self, position):\n",
    "        return np.exp(-0.5 * self.variance_at(position))\n",
    "\n",
    "    def gaussian_gradient_at(self, position):\n",
    "        return -0.5 * self.variance_gradient_at(position) * self.gaussian_at(position)\n",
    "\n",
    "    def velocity_at(self, position):\n",
    "        return self.velocity * self.gaussian_at(position)\n",
    "    \n",
    "    def velocity_gradient_at(self, position):\n",
    "        return self.velocity * self.gaussian_gradient_at(position)\n",
    "\n",
    "    def differential_velocity_at(self, position):\n",
    "        f = diff_velocity_fcn_2d if self.is2d else diff_velocity_fcn_3d\n",
    "        return f(*self.properties_at(position))\n",
    "\"\"\"\n",
    "        "
   ]
  },
  {
   "cell_type": "code",
   "execution_count": 10,
   "metadata": {},
   "outputs": [
    {
     "data": {
      "text/plain": [
       "AeroSplat(position=[0 0], velocity=[1 0], scale=[1 1], orientation=[0])"
      ]
     },
     "metadata": {},
     "output_type": "display_data"
    },
    {
     "data": {
      "text/latex": [
       "$\\displaystyle 1 + 0 i + 0 j + 0 k$"
      ],
      "text/plain": [
       "1 + 0*i + 0*j + 0*k"
      ]
     },
     "metadata": {},
     "output_type": "display_data"
    },
    {
     "data": {
      "text/plain": [
       "array([[ 1., -0.],\n",
       "       [ 0.,  1.]])"
      ]
     },
     "metadata": {},
     "output_type": "display_data"
    },
    {
     "data": {
      "text/plain": [
       "array([0.13533528, 0.        ])"
      ]
     },
     "metadata": {},
     "output_type": "display_data"
    },
    {
     "data": {
      "text/plain": [
       "array([[ 0.27067057,  0.        ],\n",
       "       [ 0.        ,  0.        ],\n",
       "       [ 0.13533528,  0.        ],\n",
       "       [ 0.        ,  0.13533528],\n",
       "       [ 0.54134113,  0.        ],\n",
       "       [ 0.        ,  0.        ],\n",
       "       [-0.        , -0.        ]])"
      ]
     },
     "metadata": {},
     "output_type": "display_data"
    }
   ],
   "source": [
    "a = AeroSplat(\n",
    "    position=[0, 0], \n",
    "    velocity=[1, 0],\n",
    "    scale=[1, 1],\n",
    "    orientation=[0]\n",
    ")\n",
    "display(a)\n",
    "display(a.quaternion)\n",
    "display(a.rotation_matrix)\n",
    "display(a.velocity_at(np.array([2, 0])))\n",
    "display(a.differential_velocity_at(np.array([2, 0])))"
   ]
  },
  {
   "cell_type": "markdown",
   "metadata": {},
   "source": [
    "## Create Boundary Condition Class"
   ]
  },
  {
   "cell_type": "code",
   "execution_count": 11,
   "metadata": {},
   "outputs": [],
   "source": [
    "class LineBoundary:\n",
    "    point0 = np.zeros(3)\n",
    "    point1 = np.zeros(3)\n",
    "    velocity = np.zeros(3)\n",
    "    \n",
    "    def __init__(self, point0=[0, 0, 0], point1=[0, 0, 0], velocity=[0, 0, 0]):\n",
    "        self.point0 = np.array(point0)\n",
    "        self.point1 = np.array(point1)\n",
    "        self.velocity = np.array(velocity)\n",
    "        \n",
    "    def __repr__(self):\n",
    "        return f\"LineBoundary(point0={self.point0}, point1={self.point1}, velocity={self.velocity})\"\n",
    "    \n",
    "    def point_at(self, weighted_distance):\n",
    "        return (1 - weighted_distance) * self.point0 + weighted_distance * self.point1\n",
    "    \n",
    "    def point_at_random(self):\n",
    "        return self.point_at(random.uniform(0, 1))"
   ]
  },
  {
   "cell_type": "code",
   "execution_count": 12,
   "metadata": {},
   "outputs": [
    {
     "name": "stdout",
     "output_type": "stream",
     "text": [
      "LineBoundary(point0=[ 0 -1], point1=[0 1], velocity=[10  0])\n",
      "[ 0.         -0.64077058]\n"
     ]
    }
   ],
   "source": [
    "source_boundary = LineBoundary(point0=[0, -1], point1=[0, 1], velocity=[10, 0])\n",
    "plate_boundary = LineBoundary(point0=[1, -0.1], point1=[1, 0.1], velocity=[0, 0])\n",
    "print(source_boundary)\n",
    "print(source_boundary.point_at_random())"
   ]
  },
  {
   "cell_type": "markdown",
   "metadata": {},
   "source": [
    "## Create Problem Definition Class"
   ]
  },
  {
   "cell_type": "code",
   "execution_count": 13,
   "metadata": {},
   "outputs": [],
   "source": [
    "class AeroSplatProblem:\n",
    "    domain_x = np.zeros(2)\n",
    "    domain_y = np.zeros(2)\n",
    "    domain_z = np.zeros(2)\n",
    "    \n",
    "    splats = []\n",
    "    boundaries = []\n",
    "    \n",
    "    def __init__(self, domain_x=[0, 0], domain_y=[0, 0], domain_z=[0, 0], boundaries=[], spawn: int = None):\n",
    "        self.domain_x = np.array(domain_x)\n",
    "        self.domain_y = np.array(domain_y)\n",
    "        self.domain_z = np.array(domain_z)\n",
    "        self.boundaries = boundaries\n",
    "        if spawn:\n",
    "            self.spawn_random_splats(spawn)\n",
    "\n",
    "    def __repr__(self):\n",
    "        repr_str = \"AeroSplatProblem(\"\n",
    "        repr_str += f\"\\n  domain_x={self.domain_x}\" if not all(self.domain_x == 0) else \"\"\n",
    "        repr_str += f\"\\n  domain_y={self.domain_y}\" if not all(self.domain_y == 0) else \"\"\n",
    "        repr_str += f\"\\n  domain_z={self.domain_z}\" if not all(self.domain_z == 0) else \"\"\n",
    "        repr_str += f\"\\n  boundaries={self.boundaries}\" if self.boundaries else \"\"\n",
    "        repr_str += \"\\n)\"\n",
    "        return repr_str\n",
    "    \n",
    "    @property\n",
    "    def ndims(self):\n",
    "        return 3 if self.domain_z[1] != self.domain_z[0] else 2\n",
    "    \n",
    "    def point_at_random(self):\n",
    "        x = random.uniform(*self.domain_x)\n",
    "        y = random.uniform(*self.domain_y)\n",
    "        z = random.uniform(*self.domain_z)\n",
    "        return np.array([x, y, z]) if self.ndims == 3 else np.array([x, y])\n",
    "    \n",
    "    def point_at_weights(self, weight_x, weight_y, weight_z):\n",
    "        weights = weight_x, weight_y, weight_z\n",
    "        domains = self.domain_x, self.domain_y, self.domain_z\n",
    "        return [(1-w)*d[0] + w*d[1] for w, d in zip(weights, domains)]\n",
    "\n",
    "    def point_grid(self, nx=10, ny=10, nz=1):\n",
    "        grid = [[[self.point_at_weights(k/(nx-1), j/(ny-1), i/(nz-1) if nz > 1 else 0) \n",
    "                  for k in range(nx)] for j in range(ny)] for i in range(nz)]\n",
    "        grid = np.array(grid)\n",
    "        # grid will be in [page->z][row->y][column->x] index ordering\n",
    "        return grid if self.ndims == 3 else grid[0, :, :, :2]\n",
    "\n",
    "    def random_splat(self):\n",
    "        return AeroSplat(\n",
    "            position=self.point_at_random(),\n",
    "            velocity=np.array(np.random.normal(size=self.ndims)), #np.zeros(self.ndims),\n",
    "            scale=0.1 + 0.2*np.array(np.random.uniform(size=self.ndims)), #0.1*np.ones(self.ndims),\n",
    "            orientation=[0] if self.ndims == 2 else [1, 0, 0, 0]\n",
    "        )\n",
    "\n",
    "    def spawn_random_splats(self, quantity, clear=True):\n",
    "        self.splats = [] if clear else self.splats\n",
    "        for _ in range(quantity):\n",
    "            self.splats.append(self.random_splat())\n",
    "\n",
    "    def velocity_on_grid(self, nx=10, ny=10, nz=1):\n",
    "        grid = self.point_grid(nx, ny, nz)\n",
    "        velocity_grid = np.zeros(grid.shape)\n",
    "        if self.ndims == 2:\n",
    "            velocity_grid = [[sum([splat.velocity_at(grid[j, k]) for splat in self.splats]) \n",
    "                              for k in range(nx)] for j in range(ny)]\n",
    "        else:\n",
    "            velocity_grid = [[[sum([splat.velocity_at(grid[i, j, k]) for splat in self.splats]) \n",
    "                              for k in range(nx)] for j in range(ny)] for i in range(nz)]\n",
    "        return np.array(velocity_grid)\n",
    "    \n",
    "    def velocity_gradient_on_grid(self, nx=10, ny=10, nz=1):\n",
    "        grid = self.point_grid(nx, ny, nz)\n",
    "        gradient_grid = np.zeros(grid.shape)\n",
    "        if self.ndims == 2:\n",
    "            gradient_grid = [[sum([splat.velocity_gradient_at(grid[j, k]) for splat in self.splats]) \n",
    "                              for k in range(nx)] for j in range(ny)]\n",
    "        else:\n",
    "            gradient_grid = [[[sum([splat.velocity_gradient_at(grid[i, j, k]) for splat in self.splats]) \n",
    "                              for k in range(nx)] for j in range(ny)] for i in range(nz)]\n",
    "        return np.array(gradient_grid)"
   ]
  },
  {
   "cell_type": "code",
   "execution_count": 14,
   "metadata": {},
   "outputs": [
    {
     "name": "stdout",
     "output_type": "stream",
     "text": [
      "AeroSplatProblem(\n",
      "  domain_x=[0 2]\n",
      "  domain_y=[-1  1]\n",
      "  boundaries=[LineBoundary(point0=[ 0 -1], point1=[0 1], velocity=[10  0]), LineBoundary(point0=[ 1.  -0.1], point1=[1.  0.1], velocity=[0 0])]\n",
      ")\n"
     ]
    }
   ],
   "source": [
    "problem = AeroSplatProblem(\n",
    "    domain_x=[0, 2], \n",
    "    domain_y=[-1, 1],\n",
    "    boundaries=[source_boundary, plate_boundary],\n",
    "    spawn=20\n",
    ")\n",
    "print(problem)"
   ]
  },
  {
   "cell_type": "code",
   "execution_count": 15,
   "metadata": {},
   "outputs": [
    {
     "name": "stdout",
     "output_type": "stream",
     "text": [
      "[[[-8.41777422e-01 -7.44465909e-01]\n",
      "  [-9.59918401e-01  6.08853382e-01]]\n",
      "\n",
      " [[ 2.16760980e-04 -5.56804477e-04]\n",
      "  [-8.45335815e-04 -8.96636644e-05]]]\n",
      "2\n",
      "[AeroSplat(position=[0.61467757 0.58807811], velocity=[ 1.73611898 -0.1905285 ], scale=[0.15967881 0.1071778 ], orientation=[0]), AeroSplat(position=[0.427972   0.64685306], velocity=[ 0.0339768  -0.08813907], scale=[0.14730382 0.27107988], orientation=[0]), AeroSplat(position=[ 0.97328105 -0.07538284], velocity=[ 0.23639792 -1.11928541], scale=[0.22528168 0.21287876], orientation=[0]), AeroSplat(position=[ 1.81391574 -0.92014774], velocity=[-1.42972857  0.91247984], scale=[0.24010989 0.18673362], orientation=[0]), AeroSplat(position=[ 1.42044494 -0.6479621 ], velocity=[-0.36487521  0.14664008], scale=[0.20091629 0.15739367], orientation=[0]), AeroSplat(position=[ 0.78922503 -0.27874885], velocity=[ 0.03695876 -1.07783632], scale=[0.15687266 0.13543356], orientation=[0]), AeroSplat(position=[1.32707054 0.59061288], velocity=[-0.19600866 -0.02078124], scale=[0.22642585 0.28512361], orientation=[0]), AeroSplat(position=[0.73419341 0.01597716], velocity=[2.62841365 1.78695245], scale=[0.20059288 0.18584418], orientation=[0]), AeroSplat(position=[ 0.53074639 -0.3746154 ], velocity=[0.11722305 1.46796368], scale=[0.23811668 0.20145614], orientation=[0]), AeroSplat(position=[0.93866121 0.27628364], velocity=[-1.53229883 -0.25854403], scale=[0.23859626 0.23732558], orientation=[0]), AeroSplat(position=[ 0.54588159 -0.06866698], velocity=[ 0.72062837 -0.11884389], scale=[0.1898452 0.2821543], orientation=[0]), AeroSplat(position=[ 0.79188962 -0.02244534], velocity=[ 0.83901893 -1.87800848], scale=[0.19566563 0.14761901], orientation=[0]), AeroSplat(position=[ 1.48175749 -0.23030131], velocity=[ 0.43177148 -0.2648119 ], scale=[0.22490466 0.22314935], orientation=[0]), AeroSplat(position=[ 1.55426224 -0.20724639], velocity=[-2.1148482   0.75782773], scale=[0.11204044 0.26648597], orientation=[0]), AeroSplat(position=[ 1.30224865 -0.87663513], velocity=[ 0.95821663 -1.14937636], scale=[0.22680603 0.17371533], orientation=[0]), AeroSplat(position=[ 0.20627517 -0.25107544], velocity=[-1.82300852  0.52564238], scale=[0.28159867 0.12100119], orientation=[0]), AeroSplat(position=[ 0.00599268 -0.95297217], velocity=[-0.93793554 -0.83195429], scale=[0.17236312 0.10103503], orientation=[0]), AeroSplat(position=[ 1.0592883 -0.5128021], velocity=[ 1.23879232 -0.76397068], scale=[0.29368871 0.187746  ], orientation=[0]), AeroSplat(position=[ 0.87631784 -0.9350469 ], velocity=[-0.84973424  0.69306111], scale=[0.23599014 0.27261123], orientation=[0]), AeroSplat(position=[ 0.96649156 -0.27273376], velocity=[ 0.49396818 -1.90119519], scale=[0.18683976 0.20622766], orientation=[0])]\n"
     ]
    }
   ],
   "source": [
    "print(problem.velocity_on_grid(2, 2))\n",
    "print(problem.ndims)\n",
    "print(problem.splats)"
   ]
  },
  {
   "cell_type": "code",
   "execution_count": 16,
   "metadata": {},
   "outputs": [
    {
     "data": {
      "image/png": "[encoded data removed]",
      "text/plain": [
       "<Figure size 432x288 with 1 Axes>"
      ]
     },
     "metadata": {
      "needs_background": "light"
     },
     "output_type": "display_data"
    }
   ],
   "source": [
    "splat_positions = np.array([[splat.position[0], splat.position[1]] for splat in problem.splats])\n",
    "plt.plot(splat_positions[:, 0], splat_positions[:, 1], \"o\");\n",
    "plt.xlim(problem.domain_x);\n",
    "plt.ylim(problem.domain_y);"
   ]
  },
  {
   "cell_type": "code",
   "execution_count": 17,
   "metadata": {},
   "outputs": [
    {
     "data": {
      "image/png": "[encoded data removed]",
      "text/plain": [
       "<Figure size 432x288 with 2 Axes>"
      ]
     },
     "metadata": {
      "needs_background": "light"
     },
     "output_type": "display_data"
    }
   ],
   "source": [
    "nx = 101\n",
    "ny = 51\n",
    "grid = problem.point_grid(nx, ny)\n",
    "velocity_field = problem.velocity_on_grid(nx, ny)\n",
    "contour_x = np.array([grid[0, k, 0] for k in range(nx)])\n",
    "contour_y = np.array([grid[j, 0, 1] for j in range(ny)])\n",
    "contour_z = np.array([[np.linalg.norm(velocity_field[j, k, :]) for k in range(nx)] for j in range(ny)])\n",
    "plt.contourf(contour_x, contour_y, contour_z, cmap=\"turbo\");\n",
    "plt.colorbar();"
   ]
  },
  {
   "cell_type": "code",
   "execution_count": 18,
   "metadata": {},
   "outputs": [
    {
     "data": {
      "image/png": "[encoded data removed]",
      "text/plain": [
       "<Figure size 432x288 with 2 Axes>"
      ]
     },
     "metadata": {
      "needs_background": "light"
     },
     "output_type": "display_data"
    }
   ],
   "source": [
    "gradient_field = problem.velocity_gradient_on_grid(nx, ny)\n",
    "contour_z = np.array([[np.linalg.norm(gradient_field[j, k, :]) for k in range(nx)] for j in range(ny)])\n",
    "plt.contourf(contour_x, contour_y, contour_z, cmap=\"turbo\");\n",
    "plt.colorbar();"
   ]
  },
  {
   "cell_type": "code",
   "execution_count": null,
   "metadata": {},
   "outputs": [],
   "source": []
  }
 ],
 "metadata": {
  "kernelspec": {
   "display_name": "base",
   "language": "python",
   "name": "python3"
  },
  "language_info": {
   "codemirror_mode": {
    "name": "ipython",
    "version": 3
   },
   "file_extension": ".py",
   "mimetype": "text/x-python",
   "name": "python",
   "nbconvert_exporter": "python",
   "pygments_lexer": "ipython3",
   "version": "3.7.13"
  }
 },
 "nbformat": 4,
 "nbformat_minor": 4
}
