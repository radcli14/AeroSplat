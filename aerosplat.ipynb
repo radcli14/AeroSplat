{
 "cells": [
  {
   "cell_type": "markdown",
   "metadata": {},
   "source": [
    "# Aerodynamic Splatting"
   ]
  },
  {
   "cell_type": "code",
   "execution_count": 1,
   "metadata": {},
   "outputs": [],
   "source": [
    "import numpy as np\n",
    "from sympy import symbols, diff, Quaternion, exp, Matrix, lambdify, sin, cos, simplify\n",
    "#from sympy.physics.mechanics import *\n",
    "import random\n",
    "from IPython.display import display\n",
    "import matplotlib.pyplot as plt\n",
    "from aerosplat import *"
   ]
  },
  {
   "cell_type": "markdown",
   "metadata": {},
   "source": [
    "## Symbolic Math"
   ]
  },
  {
   "cell_type": "markdown",
   "metadata": {},
   "source": [
    "## Equation for quaternion\n",
    "We provide two options for obtaining the quaternon.\n",
    "In the case where a `numpy` array with four quaternion components are provided, we will obtain using the standard syntax `Quaternion(qw, qx, qy, qz)`.\n",
    "In the case where a single component is provided, we will assume that this is a planar model with an angle evaluated about the $z$-axis, and obtain with the `Quaternion.from_axis_angle` class method.\n",
    "We also will create the `idx_dimension` variable which shrinks subsequent matrices and vectors to use only the first two ($x$ and $y$) components."
   ]
  },
  {
   "cell_type": "code",
   "execution_count": 2,
   "metadata": {},
   "outputs": [
    {
     "data": {
      "text/latex": [
       "$\\displaystyle \\cos{\\left(\\frac{θ}{2} \\right)} + 0 i + 0 j + \\sin{\\left(\\frac{θ}{2} \\right)} k$"
      ],
      "text/plain": [
       "cos(θ/2) + 0*i + 0*j + sin(θ/2)*k"
      ]
     },
     "metadata": {},
     "output_type": "display_data"
    }
   ],
   "source": [
    "display(quaternion_2d)"
   ]
  },
  {
   "cell_type": "code",
   "execution_count": 3,
   "metadata": {},
   "outputs": [
    {
     "data": {
      "text/latex": [
       "$\\displaystyle q_{w} + q_{x} i + q_{y} j + q_{z} k$"
      ],
      "text/plain": [
       "q_w + q_x*i + q_y*j + q_z*k"
      ]
     },
     "metadata": {},
     "output_type": "display_data"
    }
   ],
   "source": [
    "display(quaternion_3d)"
   ]
  },
  {
   "cell_type": "markdown",
   "metadata": {},
   "source": [
    "## Equation for gaussian"
   ]
  },
  {
   "cell_type": "markdown",
   "metadata": {},
   "source": [
    "The Gaussian equation that is created below uses the variance term _not-squared_, while in the plot I square this term.\n",
    "There is reason for this; the variance that I will use below is going to be of the form\n",
    "\n",
    "$\\texttt{variance} = \\sum_{i=1}^3 \\left( \\frac{x_i - \\bar{x}_i}{s_i} \\right)^2$\n",
    "\n",
    "where $x_i$ is a position coordinate for where we are measuring, $\\bar{x}_i$ is the position coordinate for the center of the Gaussian, and $s_i$ is a scale coefficient representing one standard deviation in the direction of that coordinate.\n",
    "Traditionally, we would evaluate the Gaussian at some count of standard deviations, which would derive from the square-root of the above expression.\n",
    "To avoid taking a square-root, just to subsequently square the term again, we create the Gaussian as a function of the variance directly.\n",
    "However, the plot below shows an evaluation of the Gaussian with respect to standard deviations."
   ]
  },
  {
   "cell_type": "code",
   "execution_count": 4,
   "metadata": {},
   "outputs": [
    {
     "data": {
      "image/png": "[encoded data removed]",
      "text/plain": [
       "<Figure size 432x288 with 1 Axes>"
      ]
     },
     "metadata": {
      "needs_background": "light"
     },
     "output_type": "display_data"
    }
   ],
   "source": [
    "stdev = np.linspace(-3, 3, 121);\n",
    "plt.plot(stdev, np.exp(-0.5 * stdev**2));\n",
    "plt.xlabel(\"Standard Deviations\");\n",
    "plt.ylabel(\"Gaussian\");"
   ]
  },
  {
   "cell_type": "markdown",
   "metadata": {},
   "source": [
    "Here we create a function that obtains the rotation matrix from the quaternion, along with some simplification steps.\n",
    "First, we substitute a value of 1 for the quaternion norm, as we will ensure that it is always a proper unit quaternion.\n",
    "Second, we call the standard `simplify()` function."
   ]
  },
  {
   "cell_type": "code",
   "execution_count": 5,
   "metadata": {},
   "outputs": [
    {
     "data": {
      "text/latex": [
       "$\\displaystyle \\left[\\begin{matrix}\\cos{\\left(θ \\right)} & - \\sin{\\left(θ \\right)}\\\\\\sin{\\left(θ \\right)} & \\cos{\\left(θ \\right)}\\end{matrix}\\right]$"
      ],
      "text/plain": [
       "Matrix([\n",
       "[cos(θ), -sin(θ)],\n",
       "[sin(θ),  cos(θ)]])"
      ]
     },
     "metadata": {},
     "output_type": "display_data"
    }
   ],
   "source": [
    "display(rotation_eqn_2d)"
   ]
  },
  {
   "cell_type": "code",
   "execution_count": 6,
   "metadata": {},
   "outputs": [
    {
     "data": {
      "text/latex": [
       "$\\displaystyle \\left[\\begin{matrix}- 2 q_{y}^{2} - 2 q_{z}^{2} + 1 & - 2 q_{w} q_{z} + 2 q_{x} q_{y} & 2 q_{w} q_{y} + 2 q_{x} q_{z}\\\\2 q_{w} q_{z} + 2 q_{x} q_{y} & - 2 q_{x}^{2} - 2 q_{z}^{2} + 1 & - 2 q_{w} q_{x} + 2 q_{y} q_{z}\\\\- 2 q_{w} q_{y} + 2 q_{x} q_{z} & 2 q_{w} q_{x} + 2 q_{y} q_{z} & - 2 q_{x}^{2} - 2 q_{y}^{2} + 1\\end{matrix}\\right]$"
      ],
      "text/plain": [
       "Matrix([\n",
       "[-2*q_y**2 - 2*q_z**2 + 1,   -2*q_w*q_z + 2*q_x*q_y,    2*q_w*q_y + 2*q_x*q_z],\n",
       "[   2*q_w*q_z + 2*q_x*q_y, -2*q_x**2 - 2*q_z**2 + 1,   -2*q_w*q_x + 2*q_y*q_z],\n",
       "[  -2*q_w*q_y + 2*q_x*q_z,    2*q_w*q_x + 2*q_y*q_z, -2*q_x**2 - 2*q_y**2 + 1]])"
      ]
     },
     "metadata": {},
     "output_type": "display_data"
    }
   ],
   "source": [
    "display(rotation_eqn_3d)"
   ]
  },
  {
   "cell_type": "markdown",
   "metadata": {},
   "source": [
    "Velocity away from the center of the Gaussian takes the form\n",
    "\n",
    "$\\boldsymbol{x} = (x, y, z, u, v, w, s_x, s_y, s_z, q_w, q_x, q_y, q_z)$\n",
    "\n",
    "$\\boldsymbol{x}_p = (x_p, y_p, z_p)$\n",
    "\n",
    "$\\boldsymbol{v(\\boldsymbol{x}, \\boldsymbol{x}_p)} = \\boldsymbol{v_0(\\boldsymbol{x})} g(\\boldsymbol{x}, \\boldsymbol{x}_p)$"
   ]
  },
  {
   "cell_type": "code",
   "execution_count": 7,
   "metadata": {},
   "outputs": [
    {
     "data": {
      "text/latex": [
       "$\\displaystyle \\left[\\begin{matrix}u e^{- \\frac{0.5 \\left(\\left(- x + x_{p}\\right) \\sin{\\left(θ \\right)} + \\left(- y + y_{p}\\right) \\cos{\\left(θ \\right)}\\right)^{2}}{s_{y}^{2}} - \\frac{0.5 \\left(\\left(- x + x_{p}\\right) \\cos{\\left(θ \\right)} - \\left(- y + y_{p}\\right) \\sin{\\left(θ \\right)}\\right)^{2}}{s_{x}^{2}}}\\\\v e^{- \\frac{0.5 \\left(\\left(- x + x_{p}\\right) \\sin{\\left(θ \\right)} + \\left(- y + y_{p}\\right) \\cos{\\left(θ \\right)}\\right)^{2}}{s_{y}^{2}} - \\frac{0.5 \\left(\\left(- x + x_{p}\\right) \\cos{\\left(θ \\right)} - \\left(- y + y_{p}\\right) \\sin{\\left(θ \\right)}\\right)^{2}}{s_{x}^{2}}}\\end{matrix}\\right]$"
      ],
      "text/plain": [
       "Matrix([\n",
       "[u*exp(-0.5*((-x + x_p)*sin(θ) + (-y + y_p)*cos(θ))**2/s_y**2 - 0.5*((-x + x_p)*cos(θ) - (-y + y_p)*sin(θ))**2/s_x**2)],\n",
       "[v*exp(-0.5*((-x + x_p)*sin(θ) + (-y + y_p)*cos(θ))**2/s_y**2 - 0.5*((-x + x_p)*cos(θ) - (-y + y_p)*sin(θ))**2/s_x**2)]])"
      ]
     },
     "metadata": {},
     "output_type": "display_data"
    }
   ],
   "source": [
    "display(Matrix(velocity_eqn_2d))"
   ]
  },
  {
   "cell_type": "markdown",
   "metadata": {},
   "source": [
    "We see the variance contained in the exponent"
   ]
  },
  {
   "cell_type": "code",
   "execution_count": 8,
   "metadata": {},
   "outputs": [
    {
     "data": {
      "text/latex": [
       "$\\displaystyle \\frac{\\left(\\left(- x + x_{p}\\right) \\sin{\\left(θ \\right)} + \\left(- y + y_{p}\\right) \\cos{\\left(θ \\right)}\\right)^{2}}{s_{y}^{2}} + \\frac{\\left(\\left(- x + x_{p}\\right) \\cos{\\left(θ \\right)} - \\left(- y + y_{p}\\right) \\sin{\\left(θ \\right)}\\right)^{2}}{s_{x}^{2}}$"
      ],
      "text/plain": [
       "((-x + x_p)*sin(θ) + (-y + y_p)*cos(θ))**2/s_y**2 + ((-x + x_p)*cos(θ) - (-y + y_p)*sin(θ))**2/s_x**2"
      ]
     },
     "metadata": {},
     "output_type": "display_data"
    }
   ],
   "source": [
    "display(variance_eqn_2d)"
   ]
  },
  {
   "cell_type": "markdown",
   "metadata": {},
   "source": [
    "### Velocity derivative equations\n",
    "\n",
    "Velocity is 1x2 or 1x3\n",
    "\n",
    "Variance derivates are 1xN\n",
    "\n",
    "$$\n",
    "\\frac{\\partial \\boldsymbol{v(\\boldsymbol{x}, \\boldsymbol{x}_p)} }{\\partial x_i}\n",
    "= \n",
    "\\frac{\\partial \\boldsymbol{v_0(\\boldsymbol{x})}}{\\partial x_i}\n",
    "g(\\boldsymbol{x}, \\boldsymbol{x}_p)\n",
    "+\n",
    "\\boldsymbol{v_0(\\boldsymbol{x})}\n",
    "\\frac{\\partial g(\\boldsymbol{x}, \\boldsymbol{x}_p)}{\\partial x_i}\n",
    "$$"
   ]
  },
  {
   "cell_type": "markdown",
   "metadata": {},
   "source": [
    "## Splatting Class"
   ]
  },
  {
   "cell_type": "code",
   "execution_count": 9,
   "metadata": {},
   "outputs": [
    {
     "data": {
      "text/plain": [
       "AeroSplat(position=[0 0], velocity=[1 0], scale=[1 1], orientation=[0])"
      ]
     },
     "metadata": {},
     "output_type": "display_data"
    },
    {
     "data": {
      "text/latex": [
       "$\\displaystyle 1 + 0 i + 0 j + 0 k$"
      ],
      "text/plain": [
       "1 + 0*i + 0*j + 0*k"
      ]
     },
     "metadata": {},
     "output_type": "display_data"
    },
    {
     "data": {
      "text/plain": [
       "array([[ 1., -0.],\n",
       "       [ 0.,  1.]])"
      ]
     },
     "metadata": {},
     "output_type": "display_data"
    },
    {
     "data": {
      "text/plain": [
       "array([0.13533528, 0.        ])"
      ]
     },
     "metadata": {},
     "output_type": "display_data"
    },
    {
     "data": {
      "text/plain": [
       "array([[ 0.27067057,  0.        ],\n",
       "       [ 0.        ,  0.        ],\n",
       "       [ 0.13533528,  0.        ],\n",
       "       [ 0.        ,  0.13533528],\n",
       "       [ 0.54134113,  0.        ],\n",
       "       [ 0.        ,  0.        ],\n",
       "       [-0.        , -0.        ]])"
      ]
     },
     "metadata": {},
     "output_type": "display_data"
    }
   ],
   "source": [
    "a = AeroSplat(\n",
    "    position=[0, 0], \n",
    "    velocity=[1, 0],\n",
    "    scale=[1, 1],\n",
    "    orientation=[0]\n",
    ")\n",
    "display(a)\n",
    "display(a.quaternion)\n",
    "display(a.rotation_matrix)\n",
    "display(a.velocity_at(np.array([2, 0])))\n",
    "display(a.differential_velocity_at(np.array([2, 0])))"
   ]
  },
  {
   "cell_type": "markdown",
   "metadata": {},
   "source": [
    "## Boundary Condition Class"
   ]
  },
  {
   "cell_type": "code",
   "execution_count": 10,
   "metadata": {},
   "outputs": [
    {
     "name": "stdout",
     "output_type": "stream",
     "text": [
      "LineBoundary(point0=[ 0 -1], point1=[0 1], velocity=[10  0])\n",
      "[0.        0.9498788]\n"
     ]
    }
   ],
   "source": [
    "source_boundary = LineBoundary(point0=[0, -1], point1=[0, 1], velocity=[10, 0])\n",
    "plate_boundary = LineBoundary(point0=[1, -0.1], point1=[1, 0.1], velocity=[0, 0])\n",
    "print(source_boundary)\n",
    "print(source_boundary.point_at_random())"
   ]
  },
  {
   "cell_type": "markdown",
   "metadata": {},
   "source": [
    "## Problem Definition Class"
   ]
  },
  {
   "cell_type": "code",
   "execution_count": 11,
   "metadata": {},
   "outputs": [
    {
     "name": "stdout",
     "output_type": "stream",
     "text": [
      "AeroSplatProblem(\n",
      "  domain_x=[0 2]\n",
      "  domain_y=[-1  1]\n",
      "  boundaries=[LineBoundary(point0=[ 0 -1], point1=[0 1], velocity=[10  0]), LineBoundary(point0=[ 1.  -0.1], point1=[1.  0.1], velocity=[0 0])]\n",
      ")\n"
     ]
    }
   ],
   "source": [
    "problem = AeroSplatProblem(\n",
    "    domain_x=[0, 2], \n",
    "    domain_y=[-1, 1],\n",
    "    boundaries=[source_boundary, plate_boundary],\n",
    "    spawn=20\n",
    ")\n",
    "print(problem)"
   ]
  },
  {
   "cell_type": "code",
   "execution_count": 12,
   "metadata": {},
   "outputs": [
    {
     "name": "stdout",
     "output_type": "stream",
     "text": [
      "[[[-5.96546501e-04  4.29732423e-04]\n",
      "  [ 3.18415893e-04 -5.91276843e-04]]\n",
      "\n",
      " [[ 1.47719463e-09  3.41088502e-09]\n",
      "  [ 7.95658158e-01  4.73015535e-01]]]\n",
      "2\n",
      "[AeroSplat(position=[1.0357539  0.66019156], velocity=[-0.15006131 -0.04991682], scale=[0.0574897  0.00150796], orientation=[0.37122241]), AeroSplat(position=[ 0.2847263  -0.82782761], velocity=[-0.39568316  0.2850371 ], scale=[0.18054618 0.08658485], orientation=[-2.52061402]), AeroSplat(position=[ 0.52749397 -0.64580445], velocity=[-0.64049223 -1.33694845], scale=[0.02692746 0.12112047], orientation=[-0.0107173]), AeroSplat(position=[1.24448516 0.49714416], velocity=[-1.13855848  0.26002718], scale=[0.04770798 0.14683956], orientation=[1.49796971]), AeroSplat(position=[0.84161262 0.26707103], velocity=[0.8388419  1.08141809], scale=[0.11287095 0.14763783], orientation=[1.13916186]), AeroSplat(position=[ 0.90149285 -0.56596272], velocity=[-0.92248672 -0.44432497], scale=[0.19754818 0.04089679], orientation=[1.12636425]), AeroSplat(position=[ 1.8872675  -0.19594085], velocity=[-1.27616166 -0.56808307], scale=[0.15459549 0.09050088], orientation=[1.15495171]), AeroSplat(position=[0.16736726 0.5983388 ], velocity=[-0.29482939  0.1753642 ], scale=[0.19358198 0.02814141], orientation=[2.60657731]), AeroSplat(position=[ 1.76249699 -0.05966577], velocity=[-0.07652749 -0.03148392], scale=[0.09448865 0.11519805], orientation=[-2.40755422]), AeroSplat(position=[0.78326104 0.79196728], velocity=[0.67723908 1.56376458], scale=[0.14044971 0.06313609], orientation=[-2.65614993]), AeroSplat(position=[0.64718562 0.17920111], velocity=[ 0.63142785 -0.7748324 ], scale=[0.05472703 0.01202016], orientation=[-1.01000004]), AeroSplat(position=[0.36815065 0.9067213 ], velocity=[-0.17023122 -0.09539351], scale=[0.01450389 0.02877038], orientation=[2.74196076]), AeroSplat(position=[1.12821481 0.08279303], velocity=[-2.23451305 -0.11559004], scale=[0.1632111  0.07041965], orientation=[0.87396386]), AeroSplat(position=[0.41548282 0.37968784], velocity=[1.36291289 0.09526203], scale=[0.03952179 0.1543865 ], orientation=[0.65421445]), AeroSplat(position=[1.96146912 0.85336626], velocity=[1.24960425 0.74288464], scale=[0.1695702  0.07484571], orientation=[1.64989345]), AeroSplat(position=[ 0.0910546  -0.40547223], velocity=[ 1.50971132 -1.63540913], scale=[0.10386943 0.03724982], orientation=[0.44906002]), AeroSplat(position=[ 1.68038958 -0.93073932], velocity=[-0.91361933  0.33399028], scale=[0.10413773 0.04806551], orientation=[-0.47148278]), AeroSplat(position=[ 1.57304807 -0.25162616], velocity=[0.39265632 1.02422018], scale=[0.05495057 0.07895516], orientation=[3.12328506]), AeroSplat(position=[ 1.32526862 -0.73281446], velocity=[ 0.98567393 -1.80855451], scale=[0.1134203  0.19346489], orientation=[2.22242672]), AeroSplat(position=[ 1.49520228 -0.39134791], velocity=[-0.89384238 -0.45945495], scale=[0.01635601 0.14125786], orientation=[0.83239661])]\n"
     ]
    }
   ],
   "source": [
    "print(problem.velocity_on_grid(2, 2))\n",
    "print(problem.ndims)\n",
    "print(problem.splats)"
   ]
  },
  {
   "cell_type": "code",
   "execution_count": 13,
   "metadata": {},
   "outputs": [
    {
     "data": {
      "image/png": "[encoded data removed]",
      "text/plain": [
       "<Figure size 432x288 with 1 Axes>"
      ]
     },
     "metadata": {
      "needs_background": "light"
     },
     "output_type": "display_data"
    }
   ],
   "source": [
    "splat_positions = np.array([[splat.position[0], splat.position[1]] for splat in problem.splats])\n",
    "plt.plot(splat_positions[:, 0], splat_positions[:, 1], \"o\");\n",
    "plt.xlim(problem.domain_x);\n",
    "plt.ylim(problem.domain_y);"
   ]
  },
  {
   "cell_type": "code",
   "execution_count": 14,
   "metadata": {},
   "outputs": [
    {
     "data": {
      "image/png": "[encoded data removed]",
      "text/plain": [
       "<Figure size 432x288 with 2 Axes>"
      ]
     },
     "metadata": {
      "needs_background": "light"
     },
     "output_type": "display_data"
    }
   ],
   "source": [
    "nx = 101\n",
    "ny = 51\n",
    "grid = problem.point_grid(nx, ny)\n",
    "velocity_field = problem.velocity_on_grid(nx, ny)\n",
    "contour_x = np.array([grid[0, k, 0] for k in range(nx)])\n",
    "contour_y = np.array([grid[j, 0, 1] for j in range(ny)])\n",
    "contour_z = np.array([[np.linalg.norm(velocity_field[j, k, :]) for k in range(nx)] for j in range(ny)])\n",
    "plt.contourf(contour_x, contour_y, contour_z, cmap=\"turbo\");\n",
    "plt.colorbar();"
   ]
  },
  {
   "cell_type": "code",
   "execution_count": 15,
   "metadata": {},
   "outputs": [
    {
     "data": {
      "image/png": "[encoded data removed]",
      "text/plain": [
       "<Figure size 432x288 with 2 Axes>"
      ]
     },
     "metadata": {
      "needs_background": "light"
     },
     "output_type": "display_data"
    }
   ],
   "source": [
    "gradient_field = problem.velocity_gradient_on_grid(nx, ny)\n",
    "contour_z = np.array([[np.linalg.norm(gradient_field[j, k, :]) for k in range(nx)] for j in range(ny)])\n",
    "plt.contourf(contour_x, contour_y, contour_z, cmap=\"turbo\");\n",
    "plt.colorbar();"
   ]
  },
  {
   "cell_type": "code",
   "execution_count": null,
   "metadata": {},
   "outputs": [],
   "source": []
  }
 ],
 "metadata": {
  "kernelspec": {
   "display_name": "base",
   "language": "python",
   "name": "python3"
  },
  "language_info": {
   "codemirror_mode": {
    "name": "ipython",
    "version": 3
   },
   "file_extension": ".py",
   "mimetype": "text/x-python",
   "name": "python",
   "nbconvert_exporter": "python",
   "pygments_lexer": "ipython3",
   "version": "3.7.13"
  }
 },
 "nbformat": 4,
 "nbformat_minor": 4
}
