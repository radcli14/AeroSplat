{
 "cells": [
  {
   "metadata": {},
   "cell_type": "markdown",
   "source": "# Aerodynamic Splatting"
  },
  {
   "metadata": {
    "trusted": true
   },
   "cell_type": "code",
   "source": "import numpy as np\nfrom sympy import symbols, diff, Quaternion, exp, Matrix, lambdify, sin, cos, simplify\nfrom sympy.physics.mechanics import *\nfrom scipy.spatial.transform import Rotation\nfrom IPython.display import display",
   "execution_count": 1,
   "outputs": []
  },
  {
   "metadata": {},
   "cell_type": "markdown",
   "source": "## Create Symbolic Functions"
  },
  {
   "metadata": {
    "trusted": true
   },
   "cell_type": "code",
   "source": "x, y, z, u, v, w, sx, sy, sz, qw, qx, qy, qz, θ = symbols(\"x, y, z, u, v, w, s_x, s_y, s_z, q_w, q_x, q_y, q_z, θ\")\nxp, yp, zp = symbols(\"x_p, y_p, z_p\")\n\nquat = lambda q: Quaternion(*q) if isinstance(q, np.ndarray) else Quaternion.from_axis_angle([0, 0, 1], q)\n\nposition = np.array([x, y, z])\neval_at_position = np.array([xp, yp, zp])\nvelocity = np.array([u, v, w])\nscale = np.array([sx, sy, sz])\norientation= np.array([qw, qx, qy, qz])\ngaussian = lambda variance: exp(-0.5 * variance)\ndef velocity_eqn():\n    quaternion = quat(orientation)\n    rotation_matrix = quaternion.to_rotation_matrix().subs(quaternion.norm(), 1)\n    rotation_matrix.simplify()\n    dx = rotation_matrix @ (eval_at_position - position)\n    s = dx / scale\n    variance = np.sum(s**2)\n    return velocity * gaussian(variance)\n    \ndisplay(Matrix(velocity_eqn()))",
   "execution_count": 2,
   "outputs": [
    {
     "output_type": "display_data",
     "data": {
      "text/plain": "Matrix([\n[u*exp(-0.5*((-x + x_p)*(-2*q_w*q_y + 2*q_x*q_z) + (-y + y_p)*(2*q_w*q_x + 2*q_y*q_z) + (-z + z_p)*(-2*q_x**2 - 2*q_y**2 + 1))**2/s_z**2 - 0.5*((-x + x_p)*(2*q_w*q_z + 2*q_x*q_y) + (-y + y_p)*(-2*q_x**2 - 2*q_z**2 + 1) + (-z + z_p)*(-2*q_w*q_x + 2*q_y*q_z))**2/s_y**2 - 0.5*((-x + x_p)*(-2*q_y**2 - 2*q_z**2 + 1) + (-y + y_p)*(-2*q_w*q_z + 2*q_x*q_y) + (-z + z_p)*(2*q_w*q_y + 2*q_x*q_z))**2/s_x**2)],\n[v*exp(-0.5*((-x + x_p)*(-2*q_w*q_y + 2*q_x*q_z) + (-y + y_p)*(2*q_w*q_x + 2*q_y*q_z) + (-z + z_p)*(-2*q_x**2 - 2*q_y**2 + 1))**2/s_z**2 - 0.5*((-x + x_p)*(2*q_w*q_z + 2*q_x*q_y) + (-y + y_p)*(-2*q_x**2 - 2*q_z**2 + 1) + (-z + z_p)*(-2*q_w*q_x + 2*q_y*q_z))**2/s_y**2 - 0.5*((-x + x_p)*(-2*q_y**2 - 2*q_z**2 + 1) + (-y + y_p)*(-2*q_w*q_z + 2*q_x*q_y) + (-z + z_p)*(2*q_w*q_y + 2*q_x*q_z))**2/s_x**2)],\n[w*exp(-0.5*((-x + x_p)*(-2*q_w*q_y + 2*q_x*q_z) + (-y + y_p)*(2*q_w*q_x + 2*q_y*q_z) + (-z + z_p)*(-2*q_x**2 - 2*q_y**2 + 1))**2/s_z**2 - 0.5*((-x + x_p)*(2*q_w*q_z + 2*q_x*q_y) + (-y + y_p)*(-2*q_x**2 - 2*q_z**2 + 1) + (-z + z_p)*(-2*q_w*q_x + 2*q_y*q_z))**2/s_y**2 - 0.5*((-x + x_p)*(-2*q_y**2 - 2*q_z**2 + 1) + (-y + y_p)*(-2*q_w*q_z + 2*q_x*q_y) + (-z + z_p)*(2*q_w*q_y + 2*q_x*q_z))**2/s_x**2)]])",
      "text/latex": "$\\displaystyle \\left[\\begin{matrix}u e^{- \\frac{0.5 \\left(\\left(- x + x_{p}\\right) \\left(- 2 q_{w} q_{y} + 2 q_{x} q_{z}\\right) + \\left(- y + y_{p}\\right) \\left(2 q_{w} q_{x} + 2 q_{y} q_{z}\\right) + \\left(- z + z_{p}\\right) \\left(- 2 q_{x}^{2} - 2 q_{y}^{2} + 1\\right)\\right)^{2}}{s_{z}^{2}} - \\frac{0.5 \\left(\\left(- x + x_{p}\\right) \\left(2 q_{w} q_{z} + 2 q_{x} q_{y}\\right) + \\left(- y + y_{p}\\right) \\left(- 2 q_{x}^{2} - 2 q_{z}^{2} + 1\\right) + \\left(- z + z_{p}\\right) \\left(- 2 q_{w} q_{x} + 2 q_{y} q_{z}\\right)\\right)^{2}}{s_{y}^{2}} - \\frac{0.5 \\left(\\left(- x + x_{p}\\right) \\left(- 2 q_{y}^{2} - 2 q_{z}^{2} + 1\\right) + \\left(- y + y_{p}\\right) \\left(- 2 q_{w} q_{z} + 2 q_{x} q_{y}\\right) + \\left(- z + z_{p}\\right) \\left(2 q_{w} q_{y} + 2 q_{x} q_{z}\\right)\\right)^{2}}{s_{x}^{2}}}\\\\v e^{- \\frac{0.5 \\left(\\left(- x + x_{p}\\right) \\left(- 2 q_{w} q_{y} + 2 q_{x} q_{z}\\right) + \\left(- y + y_{p}\\right) \\left(2 q_{w} q_{x} + 2 q_{y} q_{z}\\right) + \\left(- z + z_{p}\\right) \\left(- 2 q_{x}^{2} - 2 q_{y}^{2} + 1\\right)\\right)^{2}}{s_{z}^{2}} - \\frac{0.5 \\left(\\left(- x + x_{p}\\right) \\left(2 q_{w} q_{z} + 2 q_{x} q_{y}\\right) + \\left(- y + y_{p}\\right) \\left(- 2 q_{x}^{2} - 2 q_{z}^{2} + 1\\right) + \\left(- z + z_{p}\\right) \\left(- 2 q_{w} q_{x} + 2 q_{y} q_{z}\\right)\\right)^{2}}{s_{y}^{2}} - \\frac{0.5 \\left(\\left(- x + x_{p}\\right) \\left(- 2 q_{y}^{2} - 2 q_{z}^{2} + 1\\right) + \\left(- y + y_{p}\\right) \\left(- 2 q_{w} q_{z} + 2 q_{x} q_{y}\\right) + \\left(- z + z_{p}\\right) \\left(2 q_{w} q_{y} + 2 q_{x} q_{z}\\right)\\right)^{2}}{s_{x}^{2}}}\\\\w e^{- \\frac{0.5 \\left(\\left(- x + x_{p}\\right) \\left(- 2 q_{w} q_{y} + 2 q_{x} q_{z}\\right) + \\left(- y + y_{p}\\right) \\left(2 q_{w} q_{x} + 2 q_{y} q_{z}\\right) + \\left(- z + z_{p}\\right) \\left(- 2 q_{x}^{2} - 2 q_{y}^{2} + 1\\right)\\right)^{2}}{s_{z}^{2}} - \\frac{0.5 \\left(\\left(- x + x_{p}\\right) \\left(2 q_{w} q_{z} + 2 q_{x} q_{y}\\right) + \\left(- y + y_{p}\\right) \\left(- 2 q_{x}^{2} - 2 q_{z}^{2} + 1\\right) + \\left(- z + z_{p}\\right) \\left(- 2 q_{w} q_{x} + 2 q_{y} q_{z}\\right)\\right)^{2}}{s_{y}^{2}} - \\frac{0.5 \\left(\\left(- x + x_{p}\\right) \\left(- 2 q_{y}^{2} - 2 q_{z}^{2} + 1\\right) + \\left(- y + y_{p}\\right) \\left(- 2 q_{w} q_{z} + 2 q_{x} q_{y}\\right) + \\left(- z + z_{p}\\right) \\left(2 q_{w} q_{y} + 2 q_{x} q_{z}\\right)\\right)^{2}}{s_{x}^{2}}}\\end{matrix}\\right]$"
     },
     "metadata": {}
    }
   ]
  },
  {
   "metadata": {},
   "cell_type": "markdown",
   "source": "## Create Splatting Class"
  },
  {
   "metadata": {
    "trusted": true
   },
   "cell_type": "code",
   "source": "class AeroSplat:\n    position = np.zeros(2)\n    velocity = np.zeros(2)\n    scale = np.ones(2)\n    orientation = 0 # np.array([0, 0, 0, 1])\n    \n    def __init__(self, **kwargs):\n        for key, value in kwargs.items():\n            setattr(self, key, value)\n    \n    def __repr__(self):\n        return f\"AeroSplat(position={self.position}, velocity={self.velocity}, scale={self.scale}, orientation={self.orientation})\"\n    \n    @property\n    def quaternion(self):\n        return quat(self.orientation)\n    \n    @property\n    def rotation_matrix(self):\n        R = self.quaternion.to_rotation_matrix()\n        R.simplify()\n        return R[:2, :2] if len(self.position) == 2 else R\n    \n    @property\n    def scale_matrix(self):\n        return np.diag(self.scale)\n    \n    def velocity_at(self, position):\n        dx = self.rotation_matrix @ (position - self.position)\n        s = dx / self.scale\n        variance = np.sum(s**2)\n        try:\n            return self.velocity * np.exp(-0.5 * variance)\n        except:\n            return self.velocity * exp(-0.5 * variance)\n    \n    def differential_velocity_at(self, position):\n        return np.zeros(3)\n        ",
   "execution_count": 3,
   "outputs": []
  },
  {
   "metadata": {
    "trusted": true
   },
   "cell_type": "code",
   "source": "a = AeroSplat(\n    position=np.array([x, y, z]), \n    velocity=np.array([u, v, w]),\n    scale=np.array([sx, sy, sz]),\n    orientation=np.array([qx, qy, qz, qw])\n)\ndisplay(a)\ndisplay(a.quaternion)\ndisplay(a.rotation_matrix)\ndisplay(Matrix(a.velocity_at(np.array([xp, yp, zp]))))\n#display(Matrix(a.velocity_at(np.ones(3))))",
   "execution_count": 4,
   "outputs": [
    {
     "output_type": "display_data",
     "data": {
      "text/plain": "AeroSplat(position=[x y z], velocity=[u v w], scale=[s_x s_y s_z], orientation=[q_x q_y q_z q_w])"
     },
     "metadata": {}
    },
    {
     "output_type": "display_data",
     "data": {
      "text/plain": "q_x + q_y*i + q_z*j + q_w*k",
      "text/latex": "$\\displaystyle q_{x} + q_{y} i + q_{z} j + q_{w} k$"
     },
     "metadata": {}
    },
    {
     "output_type": "display_data",
     "data": {
      "text/plain": "Matrix([\n[(-q_w**2 + q_x**2 + q_y**2 - q_z**2)/(q_w**2 + q_x**2 + q_y**2 + q_z**2),               2*(-q_w*q_x + q_y*q_z)/(q_w**2 + q_x**2 + q_y**2 + q_z**2),               2*(q_w*q_y + q_x*q_z)/(q_w**2 + q_x**2 + q_y**2 + q_z**2)],\n[               2*(q_w*q_x + q_y*q_z)/(q_w**2 + q_x**2 + q_y**2 + q_z**2), (-q_w**2 + q_x**2 - q_y**2 + q_z**2)/(q_w**2 + q_x**2 + q_y**2 + q_z**2),               2*(q_w*q_z - q_x*q_y)/(q_w**2 + q_x**2 + q_y**2 + q_z**2)],\n[               2*(q_w*q_y - q_x*q_z)/(q_w**2 + q_x**2 + q_y**2 + q_z**2),                2*(q_w*q_z + q_x*q_y)/(q_w**2 + q_x**2 + q_y**2 + q_z**2), (q_w**2 + q_x**2 - q_y**2 - q_z**2)/(q_w**2 + q_x**2 + q_y**2 + q_z**2)]])",
      "text/latex": "$\\displaystyle \\left[\\begin{matrix}\\frac{- q_{w}^{2} + q_{x}^{2} + q_{y}^{2} - q_{z}^{2}}{q_{w}^{2} + q_{x}^{2} + q_{y}^{2} + q_{z}^{2}} & \\frac{2 \\left(- q_{w} q_{x} + q_{y} q_{z}\\right)}{q_{w}^{2} + q_{x}^{2} + q_{y}^{2} + q_{z}^{2}} & \\frac{2 \\left(q_{w} q_{y} + q_{x} q_{z}\\right)}{q_{w}^{2} + q_{x}^{2} + q_{y}^{2} + q_{z}^{2}}\\\\\\frac{2 \\left(q_{w} q_{x} + q_{y} q_{z}\\right)}{q_{w}^{2} + q_{x}^{2} + q_{y}^{2} + q_{z}^{2}} & \\frac{- q_{w}^{2} + q_{x}^{2} - q_{y}^{2} + q_{z}^{2}}{q_{w}^{2} + q_{x}^{2} + q_{y}^{2} + q_{z}^{2}} & \\frac{2 \\left(q_{w} q_{z} - q_{x} q_{y}\\right)}{q_{w}^{2} + q_{x}^{2} + q_{y}^{2} + q_{z}^{2}}\\\\\\frac{2 \\left(q_{w} q_{y} - q_{x} q_{z}\\right)}{q_{w}^{2} + q_{x}^{2} + q_{y}^{2} + q_{z}^{2}} & \\frac{2 \\left(q_{w} q_{z} + q_{x} q_{y}\\right)}{q_{w}^{2} + q_{x}^{2} + q_{y}^{2} + q_{z}^{2}} & \\frac{q_{w}^{2} + q_{x}^{2} - q_{y}^{2} - q_{z}^{2}}{q_{w}^{2} + q_{x}^{2} + q_{y}^{2} + q_{z}^{2}}\\end{matrix}\\right]$"
     },
     "metadata": {}
    },
    {
     "output_type": "display_data",
     "data": {
      "text/plain": "Matrix([\n[u*exp(-0.5*(2*(-x + x_p)*(q_w*q_y - q_x*q_z)/(q_w**2 + q_x**2 + q_y**2 + q_z**2) + 2*(-y + y_p)*(q_w*q_z + q_x*q_y)/(q_w**2 + q_x**2 + q_y**2 + q_z**2) + (-z + z_p)*(q_w**2 + q_x**2 - q_y**2 - q_z**2)/(q_w**2 + q_x**2 + q_y**2 + q_z**2))**2/s_z**2 - 0.5*(2*(-x + x_p)*(q_w*q_x + q_y*q_z)/(q_w**2 + q_x**2 + q_y**2 + q_z**2) + (-y + y_p)*(-q_w**2 + q_x**2 - q_y**2 + q_z**2)/(q_w**2 + q_x**2 + q_y**2 + q_z**2) + 2*(-z + z_p)*(q_w*q_z - q_x*q_y)/(q_w**2 + q_x**2 + q_y**2 + q_z**2))**2/s_y**2 - 0.5*((-x + x_p)*(-q_w**2 + q_x**2 + q_y**2 - q_z**2)/(q_w**2 + q_x**2 + q_y**2 + q_z**2) + 2*(-y + y_p)*(-q_w*q_x + q_y*q_z)/(q_w**2 + q_x**2 + q_y**2 + q_z**2) + 2*(-z + z_p)*(q_w*q_y + q_x*q_z)/(q_w**2 + q_x**2 + q_y**2 + q_z**2))**2/s_x**2)],\n[v*exp(-0.5*(2*(-x + x_p)*(q_w*q_y - q_x*q_z)/(q_w**2 + q_x**2 + q_y**2 + q_z**2) + 2*(-y + y_p)*(q_w*q_z + q_x*q_y)/(q_w**2 + q_x**2 + q_y**2 + q_z**2) + (-z + z_p)*(q_w**2 + q_x**2 - q_y**2 - q_z**2)/(q_w**2 + q_x**2 + q_y**2 + q_z**2))**2/s_z**2 - 0.5*(2*(-x + x_p)*(q_w*q_x + q_y*q_z)/(q_w**2 + q_x**2 + q_y**2 + q_z**2) + (-y + y_p)*(-q_w**2 + q_x**2 - q_y**2 + q_z**2)/(q_w**2 + q_x**2 + q_y**2 + q_z**2) + 2*(-z + z_p)*(q_w*q_z - q_x*q_y)/(q_w**2 + q_x**2 + q_y**2 + q_z**2))**2/s_y**2 - 0.5*((-x + x_p)*(-q_w**2 + q_x**2 + q_y**2 - q_z**2)/(q_w**2 + q_x**2 + q_y**2 + q_z**2) + 2*(-y + y_p)*(-q_w*q_x + q_y*q_z)/(q_w**2 + q_x**2 + q_y**2 + q_z**2) + 2*(-z + z_p)*(q_w*q_y + q_x*q_z)/(q_w**2 + q_x**2 + q_y**2 + q_z**2))**2/s_x**2)],\n[w*exp(-0.5*(2*(-x + x_p)*(q_w*q_y - q_x*q_z)/(q_w**2 + q_x**2 + q_y**2 + q_z**2) + 2*(-y + y_p)*(q_w*q_z + q_x*q_y)/(q_w**2 + q_x**2 + q_y**2 + q_z**2) + (-z + z_p)*(q_w**2 + q_x**2 - q_y**2 - q_z**2)/(q_w**2 + q_x**2 + q_y**2 + q_z**2))**2/s_z**2 - 0.5*(2*(-x + x_p)*(q_w*q_x + q_y*q_z)/(q_w**2 + q_x**2 + q_y**2 + q_z**2) + (-y + y_p)*(-q_w**2 + q_x**2 - q_y**2 + q_z**2)/(q_w**2 + q_x**2 + q_y**2 + q_z**2) + 2*(-z + z_p)*(q_w*q_z - q_x*q_y)/(q_w**2 + q_x**2 + q_y**2 + q_z**2))**2/s_y**2 - 0.5*((-x + x_p)*(-q_w**2 + q_x**2 + q_y**2 - q_z**2)/(q_w**2 + q_x**2 + q_y**2 + q_z**2) + 2*(-y + y_p)*(-q_w*q_x + q_y*q_z)/(q_w**2 + q_x**2 + q_y**2 + q_z**2) + 2*(-z + z_p)*(q_w*q_y + q_x*q_z)/(q_w**2 + q_x**2 + q_y**2 + q_z**2))**2/s_x**2)]])",
      "text/latex": "$\\displaystyle \\left[\\begin{matrix}u e^{- \\frac{0.5 \\left(\\frac{2 \\left(- x + x_{p}\\right) \\left(q_{w} q_{y} - q_{x} q_{z}\\right)}{q_{w}^{2} + q_{x}^{2} + q_{y}^{2} + q_{z}^{2}} + \\frac{2 \\left(- y + y_{p}\\right) \\left(q_{w} q_{z} + q_{x} q_{y}\\right)}{q_{w}^{2} + q_{x}^{2} + q_{y}^{2} + q_{z}^{2}} + \\frac{\\left(- z + z_{p}\\right) \\left(q_{w}^{2} + q_{x}^{2} - q_{y}^{2} - q_{z}^{2}\\right)}{q_{w}^{2} + q_{x}^{2} + q_{y}^{2} + q_{z}^{2}}\\right)^{2}}{s_{z}^{2}} - \\frac{0.5 \\left(\\frac{2 \\left(- x + x_{p}\\right) \\left(q_{w} q_{x} + q_{y} q_{z}\\right)}{q_{w}^{2} + q_{x}^{2} + q_{y}^{2} + q_{z}^{2}} + \\frac{\\left(- y + y_{p}\\right) \\left(- q_{w}^{2} + q_{x}^{2} - q_{y}^{2} + q_{z}^{2}\\right)}{q_{w}^{2} + q_{x}^{2} + q_{y}^{2} + q_{z}^{2}} + \\frac{2 \\left(- z + z_{p}\\right) \\left(q_{w} q_{z} - q_{x} q_{y}\\right)}{q_{w}^{2} + q_{x}^{2} + q_{y}^{2} + q_{z}^{2}}\\right)^{2}}{s_{y}^{2}} - \\frac{0.5 \\left(\\frac{\\left(- x + x_{p}\\right) \\left(- q_{w}^{2} + q_{x}^{2} + q_{y}^{2} - q_{z}^{2}\\right)}{q_{w}^{2} + q_{x}^{2} + q_{y}^{2} + q_{z}^{2}} + \\frac{2 \\left(- y + y_{p}\\right) \\left(- q_{w} q_{x} + q_{y} q_{z}\\right)}{q_{w}^{2} + q_{x}^{2} + q_{y}^{2} + q_{z}^{2}} + \\frac{2 \\left(- z + z_{p}\\right) \\left(q_{w} q_{y} + q_{x} q_{z}\\right)}{q_{w}^{2} + q_{x}^{2} + q_{y}^{2} + q_{z}^{2}}\\right)^{2}}{s_{x}^{2}}}\\\\v e^{- \\frac{0.5 \\left(\\frac{2 \\left(- x + x_{p}\\right) \\left(q_{w} q_{y} - q_{x} q_{z}\\right)}{q_{w}^{2} + q_{x}^{2} + q_{y}^{2} + q_{z}^{2}} + \\frac{2 \\left(- y + y_{p}\\right) \\left(q_{w} q_{z} + q_{x} q_{y}\\right)}{q_{w}^{2} + q_{x}^{2} + q_{y}^{2} + q_{z}^{2}} + \\frac{\\left(- z + z_{p}\\right) \\left(q_{w}^{2} + q_{x}^{2} - q_{y}^{2} - q_{z}^{2}\\right)}{q_{w}^{2} + q_{x}^{2} + q_{y}^{2} + q_{z}^{2}}\\right)^{2}}{s_{z}^{2}} - \\frac{0.5 \\left(\\frac{2 \\left(- x + x_{p}\\right) \\left(q_{w} q_{x} + q_{y} q_{z}\\right)}{q_{w}^{2} + q_{x}^{2} + q_{y}^{2} + q_{z}^{2}} + \\frac{\\left(- y + y_{p}\\right) \\left(- q_{w}^{2} + q_{x}^{2} - q_{y}^{2} + q_{z}^{2}\\right)}{q_{w}^{2} + q_{x}^{2} + q_{y}^{2} + q_{z}^{2}} + \\frac{2 \\left(- z + z_{p}\\right) \\left(q_{w} q_{z} - q_{x} q_{y}\\right)}{q_{w}^{2} + q_{x}^{2} + q_{y}^{2} + q_{z}^{2}}\\right)^{2}}{s_{y}^{2}} - \\frac{0.5 \\left(\\frac{\\left(- x + x_{p}\\right) \\left(- q_{w}^{2} + q_{x}^{2} + q_{y}^{2} - q_{z}^{2}\\right)}{q_{w}^{2} + q_{x}^{2} + q_{y}^{2} + q_{z}^{2}} + \\frac{2 \\left(- y + y_{p}\\right) \\left(- q_{w} q_{x} + q_{y} q_{z}\\right)}{q_{w}^{2} + q_{x}^{2} + q_{y}^{2} + q_{z}^{2}} + \\frac{2 \\left(- z + z_{p}\\right) \\left(q_{w} q_{y} + q_{x} q_{z}\\right)}{q_{w}^{2} + q_{x}^{2} + q_{y}^{2} + q_{z}^{2}}\\right)^{2}}{s_{x}^{2}}}\\\\w e^{- \\frac{0.5 \\left(\\frac{2 \\left(- x + x_{p}\\right) \\left(q_{w} q_{y} - q_{x} q_{z}\\right)}{q_{w}^{2} + q_{x}^{2} + q_{y}^{2} + q_{z}^{2}} + \\frac{2 \\left(- y + y_{p}\\right) \\left(q_{w} q_{z} + q_{x} q_{y}\\right)}{q_{w}^{2} + q_{x}^{2} + q_{y}^{2} + q_{z}^{2}} + \\frac{\\left(- z + z_{p}\\right) \\left(q_{w}^{2} + q_{x}^{2} - q_{y}^{2} - q_{z}^{2}\\right)}{q_{w}^{2} + q_{x}^{2} + q_{y}^{2} + q_{z}^{2}}\\right)^{2}}{s_{z}^{2}} - \\frac{0.5 \\left(\\frac{2 \\left(- x + x_{p}\\right) \\left(q_{w} q_{x} + q_{y} q_{z}\\right)}{q_{w}^{2} + q_{x}^{2} + q_{y}^{2} + q_{z}^{2}} + \\frac{\\left(- y + y_{p}\\right) \\left(- q_{w}^{2} + q_{x}^{2} - q_{y}^{2} + q_{z}^{2}\\right)}{q_{w}^{2} + q_{x}^{2} + q_{y}^{2} + q_{z}^{2}} + \\frac{2 \\left(- z + z_{p}\\right) \\left(q_{w} q_{z} - q_{x} q_{y}\\right)}{q_{w}^{2} + q_{x}^{2} + q_{y}^{2} + q_{z}^{2}}\\right)^{2}}{s_{y}^{2}} - \\frac{0.5 \\left(\\frac{\\left(- x + x_{p}\\right) \\left(- q_{w}^{2} + q_{x}^{2} + q_{y}^{2} - q_{z}^{2}\\right)}{q_{w}^{2} + q_{x}^{2} + q_{y}^{2} + q_{z}^{2}} + \\frac{2 \\left(- y + y_{p}\\right) \\left(- q_{w} q_{x} + q_{y} q_{z}\\right)}{q_{w}^{2} + q_{x}^{2} + q_{y}^{2} + q_{z}^{2}} + \\frac{2 \\left(- z + z_{p}\\right) \\left(q_{w} q_{y} + q_{x} q_{z}\\right)}{q_{w}^{2} + q_{x}^{2} + q_{y}^{2} + q_{z}^{2}}\\right)^{2}}{s_{x}^{2}}}\\end{matrix}\\right]$"
     },
     "metadata": {}
    }
   ]
  },
  {
   "metadata": {
    "trusted": true
   },
   "cell_type": "code",
   "source": "class LineBoundary:\n    point0 = np.zeros(3)\n    point1 = np.zeros(3)\n    \n    def __init__(self, point0=np.zeros(3), point1=np.zeros(3)):\n        self.point0 = point0\n        self.point1 = point1\n        \n    def __repr__(self):\n        return f\"LineBoundary(point0={self.point0}, point1={self.point1})\"",
   "execution_count": 5,
   "outputs": []
  },
  {
   "metadata": {
    "trusted": true
   },
   "cell_type": "code",
   "source": "line = LineBoundary(point1=np.ones(3))\n\nprint(line)",
   "execution_count": 6,
   "outputs": [
    {
     "output_type": "stream",
     "text": "LineBoundary(point0=[0. 0. 0.], point1=[1. 1. 1.])\n",
     "name": "stdout"
    }
   ]
  }
 ],
 "metadata": {
  "kernelspec": {
   "name": "python3",
   "display_name": "Python 3",
   "language": "python"
  },
  "language_info": {
   "name": "python",
   "version": "3.10.4",
   "mimetype": "text/x-python",
   "codemirror_mode": {
    "name": "ipython",
    "version": 3
   },
   "pygments_lexer": "ipython3",
   "nbconvert_exporter": "python",
   "file_extension": ".py"
  }
 },
 "nbformat": 4,
 "nbformat_minor": 2
}